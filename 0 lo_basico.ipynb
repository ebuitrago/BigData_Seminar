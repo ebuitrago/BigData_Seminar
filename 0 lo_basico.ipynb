{
  "nbformat": 4,
  "nbformat_minor": 0,
  "metadata": {
    "colab": {
      "provenance": []
    },
    "kernelspec": {
      "name": "python3",
      "display_name": "Python 3"
    }
  },
  "cells": [
    {
      "cell_type": "markdown",
      "metadata": {
        "id": "l5s6dVWpwcMf"
      },
      "source": [
        "# 1. Titulo del trabajo\n",
        "This jupyter notebook is not of my authorship. It was made by a teacher of my master's degree, but I don't remember well. Therefore I make this statement explicit. I am using it for academic purposes.\n",
        "\n",
        "_Updated: June 20th, 2023_\n",
        "\n",
        "## 1.1 Segundo nivel\n",
        "### 1.1.1 Tercer nivel\n",
        "### 1.1.2 Tercer nivel 2\n",
        "#### 1.1.2.1 Cuarto nivel\n",
        "\n",
        "- lista 1._texto en negrilla_ **negrita**\n",
        "- lista item 2 _italica_\n",
        "\n",
        "\n",
        "\n",
        "```python\n",
        "# Esto tiene formato de código\n",
        "print()\n",
        "```\n",
        "\n",
        "\n",
        "#Código latex\n",
        "- $\\sin^2 x + \\cos^2 x = 18$\n",
        "\n",
        "\n",
        "\n",
        "## Editar tabla\n",
        ">Operación|Significado|Resultado\n",
        ">--|--|--\n",
        ">1|21|3\n",
        "\n",
        "\n",
        "\n",
        "\n",
        "\n"
      ]
    },
    {
      "cell_type": "markdown",
      "metadata": {
        "id": "8IrgYetZzkG0"
      },
      "source": [
        "# Bloque de código #1"
      ]
    },
    {
      "cell_type": "code",
      "metadata": {
        "id": "VOXADFV3zrhx",
        "colab": {
          "base_uri": "https://localhost:8080/",
          "height": 35
        },
        "outputId": "bbbdc21c-0ef7-490f-9436-318c8be50770"
      },
      "source": [
        "# Pruebe una por una de las operaciones de la tabla en esta celda\n",
        "5032+7624+365\n",
        "18213-9567.5\n",
        "13.3*8.52\n",
        "23/8\n",
        "23//8\n",
        "23%8\n",
        "13**2"
      ],
      "execution_count": null,
      "outputs": [
        {
          "output_type": "execute_result",
          "data": {
            "text/plain": [
              "169"
            ]
          },
          "metadata": {
            "tags": []
          },
          "execution_count": 11
        }
      ]
    },
    {
      "cell_type": "markdown",
      "metadata": {
        "id": "jnQk3LdH1F7D"
      },
      "source": [
        "# 2. Variables"
      ]
    },
    {
      "cell_type": "code",
      "metadata": {
        "id": "zXyogMEe1VpD",
        "colab": {
          "base_uri": "https://localhost:8080/",
          "height": 53
        },
        "outputId": "10354c2d-01bb-4f04-9a96-3bebe2d65905"
      },
      "source": [
        "# Pruebe la declaración de variables en esta celda\n",
        "x = 3\n",
        "print('X es:', x)\n",
        "y = 4*x**2\n",
        "print('Y es: ', y)"
      ],
      "execution_count": null,
      "outputs": [
        {
          "output_type": "stream",
          "text": [
            "X es: 3\n",
            "Y es:  36\n"
          ],
          "name": "stdout"
        }
      ]
    },
    {
      "cell_type": "code",
      "metadata": {
        "id": "8pppS_iD2Buu",
        "colab": {
          "base_uri": "https://localhost:8080/",
          "height": 71
        },
        "outputId": "67c4da3a-218d-40ab-9093-2dc04ae26f1b"
      },
      "source": [
        "# Pruebas con ecuaciones\n",
        "x = 3.5\n",
        "y = 0.7\n",
        "z = 4 * x**3 * y-2 * x**2 * y**2 + 10*x * y**3 + 5*x\n",
        "print('X es: ', x)\n",
        "print('Y es: ', y)\n",
        "print('Z es: ', z)"
      ],
      "execution_count": null,
      "outputs": [
        {
          "output_type": "stream",
          "text": [
            "X es:  3.5\n",
            "Y es:  0.7\n",
            "Z es:  137.55\n"
          ],
          "name": "stdout"
        }
      ]
    },
    {
      "cell_type": "code",
      "metadata": {
        "id": "96kccaN_2oqC"
      },
      "source": [
        "# Probando el nivel de precedencia de la potencia\n",
        "x = 3\n",
        "y = 2\n",
        "z = 5\n",
        "(x**y)*z\n",
        "x**(y*z)\n",
        "(z/x)**y\n",
        "z/(x**y)"
      ],
      "execution_count": null,
      "outputs": []
    },
    {
      "cell_type": "markdown",
      "metadata": {
        "id": "hPwrwbTk4u9y"
      },
      "source": [
        "# 3. Tipos de datos"
      ]
    },
    {
      "cell_type": "code",
      "metadata": {
        "id": "ep2PN6nM49lj",
        "colab": {
          "base_uri": "https://localhost:8080/",
          "height": 89
        },
        "outputId": "f4c78a2c-d9f5-4417-dea4-6cd800b52760"
      },
      "source": [
        "num_entero = 1\n",
        "print(type(num_entero))\n",
        "\n",
        "#Tipo de dato real\n",
        "num_real = 1.0\n",
        "print(type(num_real))\n",
        "\n",
        "#Verdadero\n",
        "v = True\n",
        "print(v)\n",
        "\n",
        "#Falso\n",
        "f = False\n",
        "print(f)"
      ],
      "execution_count": null,
      "outputs": [
        {
          "output_type": "stream",
          "text": [
            "<class 'int'>\n",
            "<class 'float'>\n",
            "True\n",
            "False\n"
          ],
          "name": "stdout"
        }
      ]
    },
    {
      "cell_type": "code",
      "metadata": {
        "id": "NzyXVR6U5K2L",
        "colab": {
          "base_uri": "https://localhost:8080/",
          "height": 35
        },
        "outputId": "3eccd96f-04b4-42eb-e37b-c6605dda7e3e"
      },
      "source": [
        "#Pruebe los tipos de datos en esta celda\n",
        "v = True\n",
        "print('v: ', v, 'tipo es: ', type(v))"
      ],
      "execution_count": null,
      "outputs": [
        {
          "output_type": "stream",
          "text": [
            "v:  True tipo es:  <class 'bool'>\n"
          ],
          "name": "stdout"
        }
      ]
    },
    {
      "cell_type": "markdown",
      "metadata": {
        "id": "8dUHwjhL6aQG"
      },
      "source": [
        "# Strings"
      ]
    },
    {
      "cell_type": "code",
      "metadata": {
        "id": "zuhRihjx6pRE",
        "colab": {
          "base_uri": "https://localhost:8080/",
          "height": 107
        },
        "outputId": "b75785cf-1ebc-4231-a701-d18ab3df1109"
      },
      "source": [
        "# Caracter\n",
        "c = 'a'\n",
        "print(type(c))\n",
        "\n",
        "# Cadena de caracteres. Puede definirse con comilla '' o \"\"\n",
        "cna_caracteres = 'Fundamentos de programación para analítica de datos'\n",
        "print(cna_caracteres)\n",
        "\n",
        "# Cadena de caracteres con cambios de línea\n",
        "cna_caracteres = '''Fundamentos de programación.\n",
        "Maestría en analítica de datos'''\n",
        "\n",
        "print(cna_caracteres)\n",
        "print(type(cna_caracteres))"
      ],
      "execution_count": null,
      "outputs": [
        {
          "output_type": "stream",
          "text": [
            "<class 'str'>\n",
            "Fundamentos de programación para analítica de datos\n",
            "Fundamentos de programación.\n",
            "Maestría en analítica de datos\n",
            "<class 'str'>\n"
          ],
          "name": "stdout"
        }
      ]
    },
    {
      "cell_type": "markdown",
      "metadata": {
        "id": "OpttxIEr7whQ"
      },
      "source": [
        "## Otras opciones con strings"
      ]
    },
    {
      "cell_type": "code",
      "metadata": {
        "id": "uSdNDb247zL6",
        "colab": {
          "base_uri": "https://localhost:8080/",
          "height": 89
        },
        "outputId": "0c2b513a-c436-4d7e-d45c-987d72382479"
      },
      "source": [
        "# longitud de cadena de caracteres contando espacios\n",
        "long_cnd = len(cna_caracteres)\n",
        "print(long_cnd)\n",
        "\n",
        "# Concatenar texto\n",
        "cnt_texto = 'Esta es una forma ' + 'de ' + 'hacer ' + 'texto concatenado en Python '\n",
        "cnt_texto = cnt_texto + ' mas texto ' + c\n",
        "print(cnt_texto)\n",
        "\n",
        "#\n",
        "cnt_texto += ' y tambien en otros lenguajes'\n",
        "print(cnt_texto)\n",
        "\n",
        "# Strings desde Lenguaje C\n",
        "x = 'manzana'\n",
        "y = 'limones'\n",
        "valor = 323\n",
        "log = False\n",
        "#$s Define el tipo de dato cadena o caracter y %i entero\n",
        "z = 'A mi me gusta %a comer %s y %s, por lo menos %i de cada una' %(log,x,y,valor)\n",
        "print(z)"
      ],
      "execution_count": null,
      "outputs": [
        {
          "output_type": "stream",
          "text": [
            "59\n",
            "Esta es una forma de hacer texto concatenado en Python  mas texto a\n",
            "Esta es una forma de hacer texto concatenado en Python  mas texto a y tambien en otros lenguajes\n",
            "A mi me gusta False comer manzana y limones, por lo menos 323 de cada una\n"
          ],
          "name": "stdout"
        }
      ]
    },
    {
      "cell_type": "markdown",
      "metadata": {
        "id": "u1QvIyUL_rhS"
      },
      "source": [
        "## Leer desde teclado"
      ]
    },
    {
      "cell_type": "code",
      "metadata": {
        "id": "286ylXLw_t1R",
        "colab": {
          "base_uri": "https://localhost:8080/",
          "height": 107
        },
        "outputId": "c7c9eea6-7093-4ddd-a7d3-f07c8af6c8e2"
      },
      "source": [
        "x = input('Escriba un número')\n",
        "print(type(x), x)\n",
        "x = int(x) #Conversión a formato numérico\n",
        "print(type(x), x)\n",
        "\n",
        "x = int(input('Escriba un número')) #Leer desde teclado y convertir a formato numérico\n",
        "print(type(x), x)\n",
        "\n"
      ],
      "execution_count": null,
      "outputs": [
        {
          "output_type": "stream",
          "text": [
            "Escriba un número2\n",
            "<class 'str'> 2\n",
            "<class 'int'> 2\n",
            "Escriba un número5\n",
            "<class 'int'> 5\n"
          ],
          "name": "stdout"
        }
      ]
    },
    {
      "cell_type": "markdown",
      "metadata": {
        "id": "PZJzrnS4D0kt"
      },
      "source": [
        "# Sección nueva"
      ]
    },
    {
      "cell_type": "code",
      "metadata": {
        "id": "1QIKE6-xD1Pp",
        "colab": {
          "base_uri": "https://localhost:8080/",
          "height": 35
        },
        "outputId": "7b8967e6-5f79-461b-e9d5-86e40a2d2696"
      },
      "source": [
        "#Pruebe el algoritmo en esta celda\n",
        "#Variables para las entradas\n",
        "v_x = -10\n",
        "v_y = 20\n",
        "#Variables para las salidas\n",
        "U_x = 0\n",
        "u_y = 0\n",
        "# Proceso\n",
        "mod_v = (v_x**2 + v_y**2)**(1/2)\n",
        "u_x = v_x / mod_v\n",
        "u_y = v_y / mod_v\n",
        "# Salidas\n",
        "print('u = <', u_x, ', ', u_y, '>' )"
      ],
      "execution_count": null,
      "outputs": [
        {
          "output_type": "stream",
          "text": [
            "u = < -0.4472135954999579 ,  0.8944271909999159 >\n"
          ],
          "name": "stdout"
        }
      ]
    }
  ]
}
