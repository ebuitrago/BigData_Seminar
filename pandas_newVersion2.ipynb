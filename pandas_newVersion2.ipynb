{
  "nbformat": 4,
  "nbformat_minor": 0,
  "metadata": {
    "colab": {
      "provenance": []
    },
    "kernelspec": {
      "name": "python3",
      "display_name": "Python 3"
    },
    "language_info": {
      "name": "python"
    }
  },
  "cells": [
    {
      "cell_type": "markdown",
      "source": [
        "# Pandas 2.0.0\n",
        "[Author: Elias Buitrago Bolivar](https://github.com/ebuitrago?tab=repositories)\n",
        "\n",
        "Inspired in: https://www.youtube.com/watch?v=cSLPyRI_ZD8\n",
        "\n",
        "Original data: Kaggle\n",
        "\n",
        "New `Pandas` version incorporates Spark Arrow backend in order to replace `numpy`. According to his authors, this upgrade means a lot of improvements in terms of data management speed. So, This jupyter notebook is designed to study and compare new and previous `Pandas` versions. Details and explanations will be given directly in class, therefore the material isn't autoexplained. Don´t forget ask me for the access to the data. And, please, give credits to the original author's idea and, if consider, also to me.\n"
      ],
      "metadata": {
        "id": "Q60Lt3Fw3xe9"
      }
    },
    {
      "cell_type": "code",
      "source": [
        "# !pip install pandas==2.0.2"
      ],
      "metadata": {
        "id": "4a9MiBPP3xNs",
        "colab": {
          "base_uri": "https://localhost:8080/",
          "height": 418
        },
        "outputId": "b40ca2c0-4832-499a-959a-544c3f9897a3"
      },
      "execution_count": null,
      "outputs": [
        {
          "output_type": "stream",
          "name": "stdout",
          "text": [
            "Looking in indexes: https://pypi.org/simple, https://us-python.pkg.dev/colab-wheels/public/simple/\n",
            "Collecting pandas==2.0.2\n",
            "  Downloading pandas-2.0.2-cp310-cp310-manylinux_2_17_x86_64.manylinux2014_x86_64.whl (12.3 MB)\n",
            "\u001b[2K     \u001b[90m━━━━━━━━━━━━━━━━━━━━━━━━━━━━━━━━━━━━━━━━\u001b[0m \u001b[32m12.3/12.3 MB\u001b[0m \u001b[31m52.7 MB/s\u001b[0m eta \u001b[36m0:00:00\u001b[0m\n",
            "\u001b[?25hRequirement already satisfied: python-dateutil>=2.8.2 in /usr/local/lib/python3.10/dist-packages (from pandas==2.0.2) (2.8.2)\n",
            "Requirement already satisfied: pytz>=2020.1 in /usr/local/lib/python3.10/dist-packages (from pandas==2.0.2) (2022.7.1)\n",
            "Requirement already satisfied: tzdata>=2022.1 in /usr/local/lib/python3.10/dist-packages (from pandas==2.0.2) (2023.3)\n",
            "Requirement already satisfied: numpy>=1.21.0 in /usr/local/lib/python3.10/dist-packages (from pandas==2.0.2) (1.22.4)\n",
            "Requirement already satisfied: six>=1.5 in /usr/local/lib/python3.10/dist-packages (from python-dateutil>=2.8.2->pandas==2.0.2) (1.16.0)\n",
            "Installing collected packages: pandas\n",
            "  Attempting uninstall: pandas\n",
            "    Found existing installation: pandas 1.5.3\n",
            "    Uninstalling pandas-1.5.3:\n",
            "      Successfully uninstalled pandas-1.5.3\n",
            "\u001b[31mERROR: pip's dependency resolver does not currently take into account all the packages that are installed. This behaviour is the source of the following dependency conflicts.\n",
            "google-colab 1.0.0 requires pandas==1.5.3, but you have pandas 2.0.2 which is incompatible.\u001b[0m\u001b[31m\n",
            "\u001b[0mSuccessfully installed pandas-2.0.2\n"
          ]
        },
        {
          "output_type": "display_data",
          "data": {
            "application/vnd.colab-display-data+json": {
              "pip_warning": {
                "packages": [
                  "pandas"
                ]
              }
            }
          },
          "metadata": {}
        }
      ]
    },
    {
      "cell_type": "markdown",
      "source": [],
      "metadata": {
        "id": "-JYMmrTH3xrU"
      }
    },
    {
      "cell_type": "code",
      "execution_count": null,
      "metadata": {
        "colab": {
          "base_uri": "https://localhost:8080/"
        },
        "id": "k9mZkqh-2zjr",
        "outputId": "c668d242-d6cd-432f-d385-fb3fba8b0dae"
      },
      "outputs": [
        {
          "output_type": "stream",
          "name": "stdout",
          "text": [
            "pandas 2.0.2\n",
            "numpy 1.22.4\n",
            "polars 0.17.3\n"
          ]
        }
      ],
      "source": [
        "import pandas as pd\n",
        "import numpy as np\n",
        "import polars as pl\n",
        "print('pandas', pd.__version__)\n",
        "print('numpy', np.__version__)\n",
        "print('polars', pl.__version__)"
      ]
    },
    {
      "cell_type": "markdown",
      "source": [
        "## Read and concatenate files\n",
        "Now, is your turn!\n",
        "\n",
        "Give a comparison between new and previous `Pandas` versions by using the same data from the `PPvsSpark_01.ipynb` jupyter notebook lab. The objective is to measure the speed improvement in Pandas new version when reading, concatenate and aggregate files.\n",
        "\n",
        "The points to develop in the lab are the following:\n",
        "\n",
        "1.   Read data using previous Pandas version (method#1)\n",
        "2.   Read data using new Pandas version (method#2)\n",
        "3.   Concatenate files using both methods.\n",
        "4.   Create aggregation tables using both method and the following operators: mean, sum, max.\n",
        "5.   Compare the speed of the whole operations for both methods.\n",
        "\n"
      ],
      "metadata": {
        "id": "ek5uzIB06lKs"
      }
    },
    {
      "cell_type": "code",
      "source": [],
      "metadata": {
        "id": "zJi6zX8SJDdi"
      },
      "execution_count": null,
      "outputs": []
    },
    {
      "cell_type": "code",
      "source": [],
      "metadata": {
        "id": "T2cgNGfKJJFF"
      },
      "execution_count": null,
      "outputs": []
    },
    {
      "cell_type": "code",
      "source": [],
      "metadata": {
        "id": "lJpYyVA-JJCC"
      },
      "execution_count": null,
      "outputs": []
    },
    {
      "cell_type": "code",
      "source": [],
      "metadata": {
        "id": "56hTwqCSJI_K"
      },
      "execution_count": null,
      "outputs": []
    },
    {
      "cell_type": "code",
      "source": [],
      "metadata": {
        "id": "3KzdlTKtJI76"
      },
      "execution_count": null,
      "outputs": []
    },
    {
      "cell_type": "code",
      "source": [],
      "metadata": {
        "id": "bBUPMKI2JDaC"
      },
      "execution_count": null,
      "outputs": []
    },
    {
      "cell_type": "code",
      "source": [],
      "metadata": {
        "id": "CCiC3QXHJDXS"
      },
      "execution_count": null,
      "outputs": []
    },
    {
      "cell_type": "code",
      "source": [],
      "metadata": {
        "id": "LDQFG6LlJDUa"
      },
      "execution_count": null,
      "outputs": []
    },
    {
      "cell_type": "code",
      "source": [],
      "metadata": {
        "id": "g-0Lcvp4JDRi"
      },
      "execution_count": null,
      "outputs": []
    },
    {
      "cell_type": "code",
      "source": [],
      "metadata": {
        "id": "Skm4MWU2JDOi"
      },
      "execution_count": null,
      "outputs": []
    },
    {
      "cell_type": "code",
      "source": [
        "from google.colab import drive\n",
        "drive.mount('/content/drive')"
      ],
      "metadata": {
        "colab": {
          "base_uri": "https://localhost:8080/"
        },
        "id": "9xfH_IO56cZs",
        "outputId": "272a25ea-8420-479d-ab35-043ed9362bc9"
      },
      "execution_count": null,
      "outputs": [
        {
          "output_type": "stream",
          "name": "stdout",
          "text": [
            "Mounted at /content/drive\n"
          ]
        }
      ]
    },
    {
      "cell_type": "code",
      "source": [
        "import pandas as pd\n",
        "# flights_file1 = \"/content/drive/MyDrive/data/flights/Combined_Flights_2018.parquet\"\n",
        "# flights_file2 = \"/content/drive/MyDrive/data/flights/Combined_Flights_2019.parquet\"\n",
        "flights_file3 = \"/content/drive/MyDrive/data/flights/Combined_Flights_2020.parquet\"\n",
        "flights_file4 = \"/content/drive/MyDrive/data/flights/Combined_Flights_2021.parquet\"\n",
        "flights_file5 = \"/content/drive/MyDrive/data/flights/Combined_Flights_2022.parquet\""
      ],
      "metadata": {
        "id": "udu2815RAp_T"
      },
      "execution_count": null,
      "outputs": []
    },
    {
      "cell_type": "code",
      "source": [
        "# %timeit\n",
        "# df1 = pd.read_parquet(flights_file1, engine='pyarrow', dtype_backend='pyarrow')\n",
        "# df2 = pd.read_parquet(flights_file2, engine='pyarrow', dtype_backend='pyarrow')\n",
        "df3 = pd.read_parquet(flights_file3, engine='pyarrow', dtype_backend='pyarrow')\n",
        "df4 = pd.read_parquet(flights_file4, engine='pyarrow', dtype_backend='pyarrow')\n",
        "df5 = pd.read_parquet(flights_file5, engine='pyarrow', dtype_backend='pyarrow')"
      ],
      "metadata": {
        "id": "pHo7DJsHCWXN"
      },
      "execution_count": null,
      "outputs": []
    },
    {
      "cell_type": "code",
      "source": [
        "%whos"
      ],
      "metadata": {
        "colab": {
          "base_uri": "https://localhost:8080/"
        },
        "id": "iWl_7iAqFoz-",
        "outputId": "3c5b3a2c-baaa-473c-f6d8-e94479943c0a"
      },
      "execution_count": null,
      "outputs": [
        {
          "output_type": "stream",
          "name": "stdout",
          "text": [
            "Variable        Type         Data/Info\n",
            "--------------------------------------\n",
            "ctypes          module       <module 'ctypes' from '/u<...>3.10/ctypes/__init__.py'>\n",
            "df3             DataFrame                     FlightDa<...>022397 rows x 61 columns]\n",
            "df4             DataFrame                     FlightDa<...>311871 rows x 61 columns]\n",
            "df5             DataFrame                     FlightDa<...>078318 rows x 61 columns]\n",
            "flights_file3   str          /content/drive/MyDrive/da<...>ined_Flights_2020.parquet\n",
            "flights_file4   str          /content/drive/MyDrive/da<...>ined_Flights_2021.parquet\n",
            "flights_file5   str          /content/drive/MyDrive/da<...>ined_Flights_2022.parquet\n",
            "gc              module       <module 'gc' (built-in)>\n",
            "libc            CDLL         <CDLL 'libc.so.6', handle<...>3df000 at 0x7fd6777c3a30>\n",
            "pd              module       <module 'pandas' from '/u<...>ages/pandas/__init__.py'>\n"
          ]
        }
      ]
    },
    {
      "cell_type": "code",
      "source": [
        "import sys\n",
        "\n",
        "# These are the usual ipython objects, including this one you are creating\n",
        "ipython_vars = ['In', 'Out', 'exit', 'quit', 'get_ipython', 'ipython_vars']\n",
        "\n",
        "# Get a sorted list of the objects and their sizes\n",
        "sorted([(x, sys.getsizeof(globals().get(x))) for x in dir() if not x.startswith('_') and x not in sys.modules and x not in ipython_vars], key=lambda x: x[1], reverse=True)"
      ],
      "metadata": {
        "colab": {
          "base_uri": "https://localhost:8080/"
        },
        "id": "8K3KRT6ZGPlS",
        "outputId": "f2ed660a-957a-481d-f13f-d6ce04549c54"
      },
      "execution_count": null,
      "outputs": [
        {
          "output_type": "execute_result",
          "data": {
            "text/plain": [
              "[('df4', 3331471806),\n",
              " ('df3', 2650228101),\n",
              " ('df5', 2150528096),\n",
              " ('mem', 360),\n",
              " ('flights_file3', 114),\n",
              " ('flights_file4', 114),\n",
              " ('flights_file5', 114),\n",
              " ('pd', 72),\n",
              " ('libc', 48)]"
            ]
          },
          "metadata": {},
          "execution_count": 16
        }
      ]
    },
    {
      "cell_type": "code",
      "source": [
        "import sys\n",
        "\n",
        "# These are the usual ipython objects, including this one you are creating\n",
        "ipython_vars = [\"In\", \"Out\", \"exit\", \"quit\", \"get_ipython\", \"ipython_vars\"]\n",
        "\n",
        "# Get a sorted list of the objects and their sizes\n",
        "mem = {\n",
        "    key: value\n",
        "    for key, value in sorted(\n",
        "        [\n",
        "            (x, sys.getsizeof(globals().get(x)))\n",
        "            for x in dir()\n",
        "            if not x.startswith(\"_\") and x not in sys.modules and x not in ipython_vars\n",
        "        ],\n",
        "        key=lambda x: x[1],\n",
        "        reverse=True,\n",
        "    )\n",
        "}\n",
        "sum(mem.values()) / 1e6"
      ],
      "metadata": {
        "colab": {
          "base_uri": "https://localhost:8080/"
        },
        "id": "4I1Ak5XDGu2h",
        "outputId": "7b546d04-6033-4602-ac75-cc7e5e207bc3"
      },
      "execution_count": null,
      "outputs": [
        {
          "output_type": "execute_result",
          "data": {
            "text/plain": [
              "8132.228825"
            ]
          },
          "metadata": {},
          "execution_count": 17
        }
      ]
    },
    {
      "cell_type": "code",
      "source": [
        "import gc\n",
        "gc.collect()"
      ],
      "metadata": {
        "colab": {
          "base_uri": "https://localhost:8080/"
        },
        "id": "xAOYUrGWEZZr",
        "outputId": "ee8a39b6-9501-4eaf-830e-44ba4b168f5c"
      },
      "execution_count": null,
      "outputs": [
        {
          "output_type": "execute_result",
          "data": {
            "text/plain": [
              "170"
            ]
          },
          "metadata": {},
          "execution_count": 19
        }
      ]
    },
    {
      "cell_type": "code",
      "source": [
        "df = pd.concat([df3, df4, df5])"
      ],
      "metadata": {
        "id": "NHTB27TvB0OT"
      },
      "execution_count": null,
      "outputs": []
    },
    {
      "cell_type": "code",
      "source": [
        "df_agg = df.groupby(['Airline','Year'])[[\"DepDelayMinutes\", \"ArrDelayMinutes\"]].agg(\n",
        "    [\"mean\", \"sum\", \"max\"]\n",
        ")\n",
        "df_agg = df_agg.reset_index()\n",
        "df_agg.to_parquet(\"temp_pandas2.parquet\")"
      ],
      "metadata": {
        "id": "cwYH5m0pIQGz"
      },
      "execution_count": null,
      "outputs": []
    },
    {
      "cell_type": "code",
      "source": [
        "del df, df3, df4, df5\n",
        "import sys\n",
        "\n",
        "# These are the usual ipython objects, including this one you are creating\n",
        "ipython_vars = ['In', 'Out', 'exit', 'quit', 'get_ipython', 'ipython_vars']\n",
        "\n",
        "# Get a sorted list of the objects and their sizes\n",
        "sorted([(x, sys.getsizeof(globals().get(x))) for x in dir() if not x.startswith('_') and x not in sys.modules and x not in ipython_vars], key=lambda x: x[1], reverse=True)"
      ],
      "metadata": {
        "colab": {
          "base_uri": "https://localhost:8080/"
        },
        "id": "XuE5VKkQIZ7q",
        "outputId": "30c9f836-40b5-4b99-b37a-37e50c8dafd6"
      },
      "execution_count": null,
      "outputs": [
        {
          "output_type": "execute_result",
          "data": {
            "text/plain": [
              "[('df_agg', 5639),\n",
              " ('mem', 360),\n",
              " ('flights_file3', 114),\n",
              " ('flights_file4', 114),\n",
              " ('flights_file5', 114),\n",
              " ('pd', 72),\n",
              " ('libc', 48)]"
            ]
          },
          "metadata": {},
          "execution_count": 30
        }
      ]
    },
    {
      "cell_type": "code",
      "source": [
        "import gc\n",
        "gc.collect()"
      ],
      "metadata": {
        "colab": {
          "base_uri": "https://localhost:8080/"
        },
        "id": "HjD4-UCMIjra",
        "outputId": "4d175250-5787-43d4-9eee-d4e81cc3a4de"
      },
      "execution_count": null,
      "outputs": [
        {
          "output_type": "execute_result",
          "data": {
            "text/plain": [
              "0"
            ]
          },
          "metadata": {},
          "execution_count": 31
        }
      ]
    }
  ]
}