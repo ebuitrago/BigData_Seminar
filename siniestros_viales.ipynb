{
  "cells": [
    {
      "cell_type": "markdown",
      "source": [
        "# PROYECTO SINIESTROS VIALES\n",
        "## Elias Buitrago Bolivar\n",
        "### Fecha 27 marzo 2023"
      ],
      "metadata": {
        "id": "z8gYT3Q8fmuj"
      },
      "id": "z8gYT3Q8fmuj"
    },
    {
      "cell_type": "markdown",
      "source": [
        "En este cuaderno de jupyter se realiza un flujo de trabajo para predecir la severidad de siniestros viales, a partir de una base de datos de la Secretaría Distrital."
      ],
      "metadata": {
        "id": "vSh21SMif_Li"
      },
      "id": "vSh21SMif_Li"
    },
    {
      "cell_type": "markdown",
      "source": [
        "### Importar librerías"
      ],
      "metadata": {
        "id": "6DUjVIsffw-9"
      },
      "id": "6DUjVIsffw-9"
    },
    {
      "cell_type": "code",
      "execution_count": null,
      "id": "887597e8",
      "metadata": {
        "id": "887597e8"
      },
      "outputs": [],
      "source": [
        "import numpy as np\n",
        "import pandas as pd"
      ]
    },
    {
      "cell_type": "markdown",
      "source": [
        "### Cargar datos"
      ],
      "metadata": {
        "id": "Sgg2k4Myghc_"
      },
      "id": "Sgg2k4Myghc_"
    },
    {
      "cell_type": "code",
      "source": [
        "from google.colab import drive\n",
        "drive.mount('/content/drive')"
      ],
      "metadata": {
        "id": "vHno_gVX5mGF",
        "colab": {
          "base_uri": "https://localhost:8080/"
        },
        "outputId": "7964f59b-10a8-44fb-f507-08089b091e4b"
      },
      "id": "vHno_gVX5mGF",
      "execution_count": null,
      "outputs": [
        {
          "output_type": "stream",
          "name": "stdout",
          "text": [
            "Drive already mounted at /content/drive; to attempt to forcibly remount, call drive.mount(\"/content/drive\", force_remount=True).\n"
          ]
        }
      ]
    },
    {
      "cell_type": "code",
      "execution_count": null,
      "id": "60ee7e6d",
      "metadata": {
        "id": "60ee7e6d"
      },
      "outputs": [],
      "source": [
        "# dataini = pd.read_csv('historico_siniestros_bogota_d.c_-.csv')\n",
        "dataini = pd.read_csv('/content/drive/MyDrive/data/historico_siniestros_bogota_d.c_-.csv')"
      ]
    },
    {
      "cell_type": "code",
      "source": [
        "dataini.head()"
      ],
      "metadata": {
        "colab": {
          "base_uri": "https://localhost:8080/",
          "height": 409
        },
        "id": "jKaNZBuF4gbA",
        "outputId": "3db4e74b-a75d-4c08-f0a6-02413d15e158"
      },
      "id": "jKaNZBuF4gbA",
      "execution_count": null,
      "outputs": [
        {
          "output_type": "execute_result",
          "data": {
            "text/plain": [
              "           X         Y  OBJECTID  FORMULARIO  CODIGO_ACCIDENTE  \\\n",
              "0 -74.090924  4.693807         1  A000640275           4484660   \n",
              "1 -74.121000  4.603000         2  A001233353          10533499   \n",
              "2 -74.042000  4.682000         4  A001232786          10533629   \n",
              "3 -74.166937  4.587187         7  A000200705           4412699   \n",
              "4 -74.092901  4.607648         8  A000402862           4447845   \n",
              "\n",
              "     FECHA_OCURRENCIA_ACC  ANO_OCURRENCIA_ACC                   DIRECCION  \\\n",
              "0  2017/06/12 00:00:00+00                2017  AV AVENIDA BOYACA-CL 79 02   \n",
              "1  2020/11/19 00:00:00+00                2020           CL 26 S- KR 50 02   \n",
              "2  2020/11/10 00:00:00+00                2020            KR 9 - CL 100 02   \n",
              "3  2015/05/11 00:00:00+00                2015           CL 63A-KR 72 S 02   \n",
              "4  2016/06/08 00:00:00+00                2016               KR 27-CL 9 14   \n",
              "\n",
              "      GRAVEDAD CLASE_ACC       LOCALIDAD          FECHA_HORA_ACC   LATITUD  \\\n",
              "0   SOLO DANOS    CHOQUE        ENGATIVA  2017/06/12 05:30:00+00  4.693807   \n",
              "1  CON HERIDOS      OTRO   PUENTE ARANDA  2020/11/19 02:05:00+00  4.603000   \n",
              "2   SOLO DANOS    CHOQUE         USAQUEN  2020/11/10 13:30:00+00  4.682000   \n",
              "3   SOLO DANOS    CHOQUE  CIUDAD BOLIVAR  2015/05/11 10:50:00+00  4.587187   \n",
              "4   SOLO DANOS    CHOQUE    LOS MARTIRES  2016/06/08 21:30:00+00  4.607648   \n",
              "\n",
              "    LONGITUD         CIV  PK_CALZADA  \n",
              "0 -74.090924  10006772.0    221236.0  \n",
              "1 -74.121000  16004560.0         NaN  \n",
              "2 -74.042000  30001107.0         NaN  \n",
              "3 -74.166937  19001483.0    136166.0  \n",
              "4 -74.092901  14000548.0    239719.0  "
            ],
            "text/html": [
              "\n",
              "\n",
              "  <div id=\"df-056ee7e7-1fe2-4d3f-8160-7acae11eae39\">\n",
              "    <div class=\"colab-df-container\">\n",
              "      <div>\n",
              "<style scoped>\n",
              "    .dataframe tbody tr th:only-of-type {\n",
              "        vertical-align: middle;\n",
              "    }\n",
              "\n",
              "    .dataframe tbody tr th {\n",
              "        vertical-align: top;\n",
              "    }\n",
              "\n",
              "    .dataframe thead th {\n",
              "        text-align: right;\n",
              "    }\n",
              "</style>\n",
              "<table border=\"1\" class=\"dataframe\">\n",
              "  <thead>\n",
              "    <tr style=\"text-align: right;\">\n",
              "      <th></th>\n",
              "      <th>X</th>\n",
              "      <th>Y</th>\n",
              "      <th>OBJECTID</th>\n",
              "      <th>FORMULARIO</th>\n",
              "      <th>CODIGO_ACCIDENTE</th>\n",
              "      <th>FECHA_OCURRENCIA_ACC</th>\n",
              "      <th>ANO_OCURRENCIA_ACC</th>\n",
              "      <th>DIRECCION</th>\n",
              "      <th>GRAVEDAD</th>\n",
              "      <th>CLASE_ACC</th>\n",
              "      <th>LOCALIDAD</th>\n",
              "      <th>FECHA_HORA_ACC</th>\n",
              "      <th>LATITUD</th>\n",
              "      <th>LONGITUD</th>\n",
              "      <th>CIV</th>\n",
              "      <th>PK_CALZADA</th>\n",
              "    </tr>\n",
              "  </thead>\n",
              "  <tbody>\n",
              "    <tr>\n",
              "      <th>0</th>\n",
              "      <td>-74.090924</td>\n",
              "      <td>4.693807</td>\n",
              "      <td>1</td>\n",
              "      <td>A000640275</td>\n",
              "      <td>4484660</td>\n",
              "      <td>2017/06/12 00:00:00+00</td>\n",
              "      <td>2017</td>\n",
              "      <td>AV AVENIDA BOYACA-CL 79 02</td>\n",
              "      <td>SOLO DANOS</td>\n",
              "      <td>CHOQUE</td>\n",
              "      <td>ENGATIVA</td>\n",
              "      <td>2017/06/12 05:30:00+00</td>\n",
              "      <td>4.693807</td>\n",
              "      <td>-74.090924</td>\n",
              "      <td>10006772.0</td>\n",
              "      <td>221236.0</td>\n",
              "    </tr>\n",
              "    <tr>\n",
              "      <th>1</th>\n",
              "      <td>-74.121000</td>\n",
              "      <td>4.603000</td>\n",
              "      <td>2</td>\n",
              "      <td>A001233353</td>\n",
              "      <td>10533499</td>\n",
              "      <td>2020/11/19 00:00:00+00</td>\n",
              "      <td>2020</td>\n",
              "      <td>CL 26 S- KR 50 02</td>\n",
              "      <td>CON HERIDOS</td>\n",
              "      <td>OTRO</td>\n",
              "      <td>PUENTE ARANDA</td>\n",
              "      <td>2020/11/19 02:05:00+00</td>\n",
              "      <td>4.603000</td>\n",
              "      <td>-74.121000</td>\n",
              "      <td>16004560.0</td>\n",
              "      <td>NaN</td>\n",
              "    </tr>\n",
              "    <tr>\n",
              "      <th>2</th>\n",
              "      <td>-74.042000</td>\n",
              "      <td>4.682000</td>\n",
              "      <td>4</td>\n",
              "      <td>A001232786</td>\n",
              "      <td>10533629</td>\n",
              "      <td>2020/11/10 00:00:00+00</td>\n",
              "      <td>2020</td>\n",
              "      <td>KR 9 - CL 100 02</td>\n",
              "      <td>SOLO DANOS</td>\n",
              "      <td>CHOQUE</td>\n",
              "      <td>USAQUEN</td>\n",
              "      <td>2020/11/10 13:30:00+00</td>\n",
              "      <td>4.682000</td>\n",
              "      <td>-74.042000</td>\n",
              "      <td>30001107.0</td>\n",
              "      <td>NaN</td>\n",
              "    </tr>\n",
              "    <tr>\n",
              "      <th>3</th>\n",
              "      <td>-74.166937</td>\n",
              "      <td>4.587187</td>\n",
              "      <td>7</td>\n",
              "      <td>A000200705</td>\n",
              "      <td>4412699</td>\n",
              "      <td>2015/05/11 00:00:00+00</td>\n",
              "      <td>2015</td>\n",
              "      <td>CL 63A-KR 72 S 02</td>\n",
              "      <td>SOLO DANOS</td>\n",
              "      <td>CHOQUE</td>\n",
              "      <td>CIUDAD BOLIVAR</td>\n",
              "      <td>2015/05/11 10:50:00+00</td>\n",
              "      <td>4.587187</td>\n",
              "      <td>-74.166937</td>\n",
              "      <td>19001483.0</td>\n",
              "      <td>136166.0</td>\n",
              "    </tr>\n",
              "    <tr>\n",
              "      <th>4</th>\n",
              "      <td>-74.092901</td>\n",
              "      <td>4.607648</td>\n",
              "      <td>8</td>\n",
              "      <td>A000402862</td>\n",
              "      <td>4447845</td>\n",
              "      <td>2016/06/08 00:00:00+00</td>\n",
              "      <td>2016</td>\n",
              "      <td>KR 27-CL 9 14</td>\n",
              "      <td>SOLO DANOS</td>\n",
              "      <td>CHOQUE</td>\n",
              "      <td>LOS MARTIRES</td>\n",
              "      <td>2016/06/08 21:30:00+00</td>\n",
              "      <td>4.607648</td>\n",
              "      <td>-74.092901</td>\n",
              "      <td>14000548.0</td>\n",
              "      <td>239719.0</td>\n",
              "    </tr>\n",
              "  </tbody>\n",
              "</table>\n",
              "</div>\n",
              "      <button class=\"colab-df-convert\" onclick=\"convertToInteractive('df-056ee7e7-1fe2-4d3f-8160-7acae11eae39')\"\n",
              "              title=\"Convert this dataframe to an interactive table.\"\n",
              "              style=\"display:none;\">\n",
              "\n",
              "  <svg xmlns=\"http://www.w3.org/2000/svg\" height=\"24px\"viewBox=\"0 0 24 24\"\n",
              "       width=\"24px\">\n",
              "    <path d=\"M0 0h24v24H0V0z\" fill=\"none\"/>\n",
              "    <path d=\"M18.56 5.44l.94 2.06.94-2.06 2.06-.94-2.06-.94-.94-2.06-.94 2.06-2.06.94zm-11 1L8.5 8.5l.94-2.06 2.06-.94-2.06-.94L8.5 2.5l-.94 2.06-2.06.94zm10 10l.94 2.06.94-2.06 2.06-.94-2.06-.94-.94-2.06-.94 2.06-2.06.94z\"/><path d=\"M17.41 7.96l-1.37-1.37c-.4-.4-.92-.59-1.43-.59-.52 0-1.04.2-1.43.59L10.3 9.45l-7.72 7.72c-.78.78-.78 2.05 0 2.83L4 21.41c.39.39.9.59 1.41.59.51 0 1.02-.2 1.41-.59l7.78-7.78 2.81-2.81c.8-.78.8-2.07 0-2.86zM5.41 20L4 18.59l7.72-7.72 1.47 1.35L5.41 20z\"/>\n",
              "  </svg>\n",
              "      </button>\n",
              "\n",
              "\n",
              "\n",
              "    <div id=\"df-dac916ab-5359-46f6-9ee7-57754484df45\">\n",
              "      <button class=\"colab-df-quickchart\" onclick=\"quickchart('df-dac916ab-5359-46f6-9ee7-57754484df45')\"\n",
              "              title=\"Suggest charts.\"\n",
              "              style=\"display:none;\">\n",
              "\n",
              "<svg xmlns=\"http://www.w3.org/2000/svg\" height=\"24px\"viewBox=\"0 0 24 24\"\n",
              "     width=\"24px\">\n",
              "    <g>\n",
              "        <path d=\"M19 3H5c-1.1 0-2 .9-2 2v14c0 1.1.9 2 2 2h14c1.1 0 2-.9 2-2V5c0-1.1-.9-2-2-2zM9 17H7v-7h2v7zm4 0h-2V7h2v10zm4 0h-2v-4h2v4z\"/>\n",
              "    </g>\n",
              "</svg>\n",
              "      </button>\n",
              "    </div>\n",
              "\n",
              "<style>\n",
              "  .colab-df-quickchart {\n",
              "    background-color: #E8F0FE;\n",
              "    border: none;\n",
              "    border-radius: 50%;\n",
              "    cursor: pointer;\n",
              "    display: none;\n",
              "    fill: #1967D2;\n",
              "    height: 32px;\n",
              "    padding: 0 0 0 0;\n",
              "    width: 32px;\n",
              "  }\n",
              "\n",
              "  .colab-df-quickchart:hover {\n",
              "    background-color: #E2EBFA;\n",
              "    box-shadow: 0px 1px 2px rgba(60, 64, 67, 0.3), 0px 1px 3px 1px rgba(60, 64, 67, 0.15);\n",
              "    fill: #174EA6;\n",
              "  }\n",
              "\n",
              "  [theme=dark] .colab-df-quickchart {\n",
              "    background-color: #3B4455;\n",
              "    fill: #D2E3FC;\n",
              "  }\n",
              "\n",
              "  [theme=dark] .colab-df-quickchart:hover {\n",
              "    background-color: #434B5C;\n",
              "    box-shadow: 0px 1px 3px 1px rgba(0, 0, 0, 0.15);\n",
              "    filter: drop-shadow(0px 1px 2px rgba(0, 0, 0, 0.3));\n",
              "    fill: #FFFFFF;\n",
              "  }\n",
              "</style>\n",
              "\n",
              "    <script>\n",
              "      async function quickchart(key) {\n",
              "        const containerElement = document.querySelector('#' + key);\n",
              "        const charts = await google.colab.kernel.invokeFunction(\n",
              "            'suggestCharts', [key], {});\n",
              "      }\n",
              "    </script>\n",
              "\n",
              "      <script>\n",
              "\n",
              "function displayQuickchartButton(domScope) {\n",
              "  let quickchartButtonEl =\n",
              "    domScope.querySelector('#df-dac916ab-5359-46f6-9ee7-57754484df45 button.colab-df-quickchart');\n",
              "  quickchartButtonEl.style.display =\n",
              "    google.colab.kernel.accessAllowed ? 'block' : 'none';\n",
              "}\n",
              "\n",
              "        displayQuickchartButton(document);\n",
              "      </script>\n",
              "      <style>\n",
              "    .colab-df-container {\n",
              "      display:flex;\n",
              "      flex-wrap:wrap;\n",
              "      gap: 12px;\n",
              "    }\n",
              "\n",
              "    .colab-df-convert {\n",
              "      background-color: #E8F0FE;\n",
              "      border: none;\n",
              "      border-radius: 50%;\n",
              "      cursor: pointer;\n",
              "      display: none;\n",
              "      fill: #1967D2;\n",
              "      height: 32px;\n",
              "      padding: 0 0 0 0;\n",
              "      width: 32px;\n",
              "    }\n",
              "\n",
              "    .colab-df-convert:hover {\n",
              "      background-color: #E2EBFA;\n",
              "      box-shadow: 0px 1px 2px rgba(60, 64, 67, 0.3), 0px 1px 3px 1px rgba(60, 64, 67, 0.15);\n",
              "      fill: #174EA6;\n",
              "    }\n",
              "\n",
              "    [theme=dark] .colab-df-convert {\n",
              "      background-color: #3B4455;\n",
              "      fill: #D2E3FC;\n",
              "    }\n",
              "\n",
              "    [theme=dark] .colab-df-convert:hover {\n",
              "      background-color: #434B5C;\n",
              "      box-shadow: 0px 1px 3px 1px rgba(0, 0, 0, 0.15);\n",
              "      filter: drop-shadow(0px 1px 2px rgba(0, 0, 0, 0.3));\n",
              "      fill: #FFFFFF;\n",
              "    }\n",
              "  </style>\n",
              "\n",
              "      <script>\n",
              "        const buttonEl =\n",
              "          document.querySelector('#df-056ee7e7-1fe2-4d3f-8160-7acae11eae39 button.colab-df-convert');\n",
              "        buttonEl.style.display =\n",
              "          google.colab.kernel.accessAllowed ? 'block' : 'none';\n",
              "\n",
              "        async function convertToInteractive(key) {\n",
              "          const element = document.querySelector('#df-056ee7e7-1fe2-4d3f-8160-7acae11eae39');\n",
              "          const dataTable =\n",
              "            await google.colab.kernel.invokeFunction('convertToInteractive',\n",
              "                                                     [key], {});\n",
              "          if (!dataTable) return;\n",
              "\n",
              "          const docLinkHtml = 'Like what you see? Visit the ' +\n",
              "            '<a target=\"_blank\" href=https://colab.research.google.com/notebooks/data_table.ipynb>data table notebook</a>'\n",
              "            + ' to learn more about interactive tables.';\n",
              "          element.innerHTML = '';\n",
              "          dataTable['output_type'] = 'display_data';\n",
              "          await google.colab.output.renderOutput(dataTable, element);\n",
              "          const docLink = document.createElement('div');\n",
              "          docLink.innerHTML = docLinkHtml;\n",
              "          element.appendChild(docLink);\n",
              "        }\n",
              "      </script>\n",
              "    </div>\n",
              "  </div>\n"
            ]
          },
          "metadata": {},
          "execution_count": 183
        }
      ]
    },
    {
      "cell_type": "code",
      "execution_count": null,
      "id": "0a9157a2",
      "metadata": {
        "id": "0a9157a2",
        "outputId": "fb4eaefb-9433-4842-f89c-31edab5a9e37",
        "colab": {
          "base_uri": "https://localhost:8080/",
          "height": 206
        }
      },
      "outputs": [
        {
          "output_type": "execute_result",
          "data": {
            "text/plain": [
              "      GRAVEDAD CLASE_ACC       LOCALIDAD          FECHA_HORA_ACC   LATITUD  \\\n",
              "0   SOLO DANOS    CHOQUE        ENGATIVA  2017/06/12 05:30:00+00  4.693807   \n",
              "1  CON HERIDOS      OTRO   PUENTE ARANDA  2020/11/19 02:05:00+00  4.603000   \n",
              "2   SOLO DANOS    CHOQUE         USAQUEN  2020/11/10 13:30:00+00  4.682000   \n",
              "3   SOLO DANOS    CHOQUE  CIUDAD BOLIVAR  2015/05/11 10:50:00+00  4.587187   \n",
              "4   SOLO DANOS    CHOQUE    LOS MARTIRES  2016/06/08 21:30:00+00  4.607648   \n",
              "\n",
              "    LONGITUD  \n",
              "0 -74.090924  \n",
              "1 -74.121000  \n",
              "2 -74.042000  \n",
              "3 -74.166937  \n",
              "4 -74.092901  "
            ],
            "text/html": [
              "\n",
              "\n",
              "  <div id=\"df-da6cda8d-b1a0-4939-838d-0043610e0547\">\n",
              "    <div class=\"colab-df-container\">\n",
              "      <div>\n",
              "<style scoped>\n",
              "    .dataframe tbody tr th:only-of-type {\n",
              "        vertical-align: middle;\n",
              "    }\n",
              "\n",
              "    .dataframe tbody tr th {\n",
              "        vertical-align: top;\n",
              "    }\n",
              "\n",
              "    .dataframe thead th {\n",
              "        text-align: right;\n",
              "    }\n",
              "</style>\n",
              "<table border=\"1\" class=\"dataframe\">\n",
              "  <thead>\n",
              "    <tr style=\"text-align: right;\">\n",
              "      <th></th>\n",
              "      <th>GRAVEDAD</th>\n",
              "      <th>CLASE_ACC</th>\n",
              "      <th>LOCALIDAD</th>\n",
              "      <th>FECHA_HORA_ACC</th>\n",
              "      <th>LATITUD</th>\n",
              "      <th>LONGITUD</th>\n",
              "    </tr>\n",
              "  </thead>\n",
              "  <tbody>\n",
              "    <tr>\n",
              "      <th>0</th>\n",
              "      <td>SOLO DANOS</td>\n",
              "      <td>CHOQUE</td>\n",
              "      <td>ENGATIVA</td>\n",
              "      <td>2017/06/12 05:30:00+00</td>\n",
              "      <td>4.693807</td>\n",
              "      <td>-74.090924</td>\n",
              "    </tr>\n",
              "    <tr>\n",
              "      <th>1</th>\n",
              "      <td>CON HERIDOS</td>\n",
              "      <td>OTRO</td>\n",
              "      <td>PUENTE ARANDA</td>\n",
              "      <td>2020/11/19 02:05:00+00</td>\n",
              "      <td>4.603000</td>\n",
              "      <td>-74.121000</td>\n",
              "    </tr>\n",
              "    <tr>\n",
              "      <th>2</th>\n",
              "      <td>SOLO DANOS</td>\n",
              "      <td>CHOQUE</td>\n",
              "      <td>USAQUEN</td>\n",
              "      <td>2020/11/10 13:30:00+00</td>\n",
              "      <td>4.682000</td>\n",
              "      <td>-74.042000</td>\n",
              "    </tr>\n",
              "    <tr>\n",
              "      <th>3</th>\n",
              "      <td>SOLO DANOS</td>\n",
              "      <td>CHOQUE</td>\n",
              "      <td>CIUDAD BOLIVAR</td>\n",
              "      <td>2015/05/11 10:50:00+00</td>\n",
              "      <td>4.587187</td>\n",
              "      <td>-74.166937</td>\n",
              "    </tr>\n",
              "    <tr>\n",
              "      <th>4</th>\n",
              "      <td>SOLO DANOS</td>\n",
              "      <td>CHOQUE</td>\n",
              "      <td>LOS MARTIRES</td>\n",
              "      <td>2016/06/08 21:30:00+00</td>\n",
              "      <td>4.607648</td>\n",
              "      <td>-74.092901</td>\n",
              "    </tr>\n",
              "  </tbody>\n",
              "</table>\n",
              "</div>\n",
              "      <button class=\"colab-df-convert\" onclick=\"convertToInteractive('df-da6cda8d-b1a0-4939-838d-0043610e0547')\"\n",
              "              title=\"Convert this dataframe to an interactive table.\"\n",
              "              style=\"display:none;\">\n",
              "\n",
              "  <svg xmlns=\"http://www.w3.org/2000/svg\" height=\"24px\"viewBox=\"0 0 24 24\"\n",
              "       width=\"24px\">\n",
              "    <path d=\"M0 0h24v24H0V0z\" fill=\"none\"/>\n",
              "    <path d=\"M18.56 5.44l.94 2.06.94-2.06 2.06-.94-2.06-.94-.94-2.06-.94 2.06-2.06.94zm-11 1L8.5 8.5l.94-2.06 2.06-.94-2.06-.94L8.5 2.5l-.94 2.06-2.06.94zm10 10l.94 2.06.94-2.06 2.06-.94-2.06-.94-.94-2.06-.94 2.06-2.06.94z\"/><path d=\"M17.41 7.96l-1.37-1.37c-.4-.4-.92-.59-1.43-.59-.52 0-1.04.2-1.43.59L10.3 9.45l-7.72 7.72c-.78.78-.78 2.05 0 2.83L4 21.41c.39.39.9.59 1.41.59.51 0 1.02-.2 1.41-.59l7.78-7.78 2.81-2.81c.8-.78.8-2.07 0-2.86zM5.41 20L4 18.59l7.72-7.72 1.47 1.35L5.41 20z\"/>\n",
              "  </svg>\n",
              "      </button>\n",
              "\n",
              "\n",
              "\n",
              "    <div id=\"df-f48046ee-ef80-47f3-9115-4ca28ecaed31\">\n",
              "      <button class=\"colab-df-quickchart\" onclick=\"quickchart('df-f48046ee-ef80-47f3-9115-4ca28ecaed31')\"\n",
              "              title=\"Suggest charts.\"\n",
              "              style=\"display:none;\">\n",
              "\n",
              "<svg xmlns=\"http://www.w3.org/2000/svg\" height=\"24px\"viewBox=\"0 0 24 24\"\n",
              "     width=\"24px\">\n",
              "    <g>\n",
              "        <path d=\"M19 3H5c-1.1 0-2 .9-2 2v14c0 1.1.9 2 2 2h14c1.1 0 2-.9 2-2V5c0-1.1-.9-2-2-2zM9 17H7v-7h2v7zm4 0h-2V7h2v10zm4 0h-2v-4h2v4z\"/>\n",
              "    </g>\n",
              "</svg>\n",
              "      </button>\n",
              "    </div>\n",
              "\n",
              "<style>\n",
              "  .colab-df-quickchart {\n",
              "    background-color: #E8F0FE;\n",
              "    border: none;\n",
              "    border-radius: 50%;\n",
              "    cursor: pointer;\n",
              "    display: none;\n",
              "    fill: #1967D2;\n",
              "    height: 32px;\n",
              "    padding: 0 0 0 0;\n",
              "    width: 32px;\n",
              "  }\n",
              "\n",
              "  .colab-df-quickchart:hover {\n",
              "    background-color: #E2EBFA;\n",
              "    box-shadow: 0px 1px 2px rgba(60, 64, 67, 0.3), 0px 1px 3px 1px rgba(60, 64, 67, 0.15);\n",
              "    fill: #174EA6;\n",
              "  }\n",
              "\n",
              "  [theme=dark] .colab-df-quickchart {\n",
              "    background-color: #3B4455;\n",
              "    fill: #D2E3FC;\n",
              "  }\n",
              "\n",
              "  [theme=dark] .colab-df-quickchart:hover {\n",
              "    background-color: #434B5C;\n",
              "    box-shadow: 0px 1px 3px 1px rgba(0, 0, 0, 0.15);\n",
              "    filter: drop-shadow(0px 1px 2px rgba(0, 0, 0, 0.3));\n",
              "    fill: #FFFFFF;\n",
              "  }\n",
              "</style>\n",
              "\n",
              "    <script>\n",
              "      async function quickchart(key) {\n",
              "        const containerElement = document.querySelector('#' + key);\n",
              "        const charts = await google.colab.kernel.invokeFunction(\n",
              "            'suggestCharts', [key], {});\n",
              "      }\n",
              "    </script>\n",
              "\n",
              "      <script>\n",
              "\n",
              "function displayQuickchartButton(domScope) {\n",
              "  let quickchartButtonEl =\n",
              "    domScope.querySelector('#df-f48046ee-ef80-47f3-9115-4ca28ecaed31 button.colab-df-quickchart');\n",
              "  quickchartButtonEl.style.display =\n",
              "    google.colab.kernel.accessAllowed ? 'block' : 'none';\n",
              "}\n",
              "\n",
              "        displayQuickchartButton(document);\n",
              "      </script>\n",
              "      <style>\n",
              "    .colab-df-container {\n",
              "      display:flex;\n",
              "      flex-wrap:wrap;\n",
              "      gap: 12px;\n",
              "    }\n",
              "\n",
              "    .colab-df-convert {\n",
              "      background-color: #E8F0FE;\n",
              "      border: none;\n",
              "      border-radius: 50%;\n",
              "      cursor: pointer;\n",
              "      display: none;\n",
              "      fill: #1967D2;\n",
              "      height: 32px;\n",
              "      padding: 0 0 0 0;\n",
              "      width: 32px;\n",
              "    }\n",
              "\n",
              "    .colab-df-convert:hover {\n",
              "      background-color: #E2EBFA;\n",
              "      box-shadow: 0px 1px 2px rgba(60, 64, 67, 0.3), 0px 1px 3px 1px rgba(60, 64, 67, 0.15);\n",
              "      fill: #174EA6;\n",
              "    }\n",
              "\n",
              "    [theme=dark] .colab-df-convert {\n",
              "      background-color: #3B4455;\n",
              "      fill: #D2E3FC;\n",
              "    }\n",
              "\n",
              "    [theme=dark] .colab-df-convert:hover {\n",
              "      background-color: #434B5C;\n",
              "      box-shadow: 0px 1px 3px 1px rgba(0, 0, 0, 0.15);\n",
              "      filter: drop-shadow(0px 1px 2px rgba(0, 0, 0, 0.3));\n",
              "      fill: #FFFFFF;\n",
              "    }\n",
              "  </style>\n",
              "\n",
              "      <script>\n",
              "        const buttonEl =\n",
              "          document.querySelector('#df-da6cda8d-b1a0-4939-838d-0043610e0547 button.colab-df-convert');\n",
              "        buttonEl.style.display =\n",
              "          google.colab.kernel.accessAllowed ? 'block' : 'none';\n",
              "\n",
              "        async function convertToInteractive(key) {\n",
              "          const element = document.querySelector('#df-da6cda8d-b1a0-4939-838d-0043610e0547');\n",
              "          const dataTable =\n",
              "            await google.colab.kernel.invokeFunction('convertToInteractive',\n",
              "                                                     [key], {});\n",
              "          if (!dataTable) return;\n",
              "\n",
              "          const docLinkHtml = 'Like what you see? Visit the ' +\n",
              "            '<a target=\"_blank\" href=https://colab.research.google.com/notebooks/data_table.ipynb>data table notebook</a>'\n",
              "            + ' to learn more about interactive tables.';\n",
              "          element.innerHTML = '';\n",
              "          dataTable['output_type'] = 'display_data';\n",
              "          await google.colab.output.renderOutput(dataTable, element);\n",
              "          const docLink = document.createElement('div');\n",
              "          docLink.innerHTML = docLinkHtml;\n",
              "          element.appendChild(docLink);\n",
              "        }\n",
              "      </script>\n",
              "    </div>\n",
              "  </div>\n"
            ]
          },
          "metadata": {},
          "execution_count": 184
        }
      ],
      "source": [
        "data = dataini\n",
        "\n",
        "data = data.drop(['X','Y','OBJECTID','FORMULARIO','CODIGO_ACCIDENTE','FECHA_OCURRENCIA_ACC','ANO_OCURRENCIA_ACC','DIRECCION','CIV','PK_CALZADA', ], axis=1)\n",
        "data.head()"
      ]
    },
    {
      "cell_type": "code",
      "execution_count": null,
      "id": "284ab565",
      "metadata": {
        "id": "284ab565"
      },
      "outputs": [],
      "source": [
        "# df['year'], df['month'] = df['date'].dt.year, df['date'].dt.month\n",
        "# data['AÑO'] = data['FECHA_OCURRENCIA_ACC'].\n",
        "data['AÑO'] = pd.DatetimeIndex(data['FECHA_HORA_ACC']).year"
      ]
    },
    {
      "cell_type": "code",
      "execution_count": null,
      "id": "1333d4ee",
      "metadata": {
        "id": "1333d4ee"
      },
      "outputs": [],
      "source": [
        "data['MES'] = pd.DatetimeIndex(data['FECHA_HORA_ACC']).month"
      ]
    },
    {
      "cell_type": "code",
      "execution_count": null,
      "id": "5407a902",
      "metadata": {
        "id": "5407a902"
      },
      "outputs": [],
      "source": [
        "data['DIA'] = pd.DatetimeIndex(data['FECHA_HORA_ACC']).day"
      ]
    },
    {
      "cell_type": "code",
      "execution_count": null,
      "id": "0f7fe9bc",
      "metadata": {
        "id": "0f7fe9bc"
      },
      "outputs": [],
      "source": [
        "# data['HORA'] = pd.DatetimeIndex(data['FECHA_HORA_ACC']).time #HH:MM:SS\n",
        "data['HORA'] = pd.DatetimeIndex(data['FECHA_HORA_ACC']).hour #HH"
      ]
    },
    {
      "cell_type": "code",
      "execution_count": null,
      "id": "f7495f0f",
      "metadata": {
        "id": "f7495f0f",
        "outputId": "6308b1b0-b857-4859-de9d-0c66532ddb2e",
        "colab": {
          "base_uri": "https://localhost:8080/",
          "height": 206
        }
      },
      "outputs": [
        {
          "output_type": "execute_result",
          "data": {
            "text/plain": [
              "      GRAVEDAD CLASE_ACC       LOCALIDAD          FECHA_HORA_ACC   LATITUD  \\\n",
              "0   SOLO DANOS    CHOQUE        ENGATIVA  2017/06/12 05:30:00+00  4.693807   \n",
              "1  CON HERIDOS      OTRO   PUENTE ARANDA  2020/11/19 02:05:00+00  4.603000   \n",
              "2   SOLO DANOS    CHOQUE         USAQUEN  2020/11/10 13:30:00+00  4.682000   \n",
              "3   SOLO DANOS    CHOQUE  CIUDAD BOLIVAR  2015/05/11 10:50:00+00  4.587187   \n",
              "4   SOLO DANOS    CHOQUE    LOS MARTIRES  2016/06/08 21:30:00+00  4.607648   \n",
              "\n",
              "    LONGITUD   AÑO  MES  DIA  HORA  \n",
              "0 -74.090924  2017    6   12     5  \n",
              "1 -74.121000  2020   11   19     2  \n",
              "2 -74.042000  2020   11   10    13  \n",
              "3 -74.166937  2015    5   11    10  \n",
              "4 -74.092901  2016    6    8    21  "
            ],
            "text/html": [
              "\n",
              "\n",
              "  <div id=\"df-eb2fd7b3-a915-4585-982b-3a87a896fe9f\">\n",
              "    <div class=\"colab-df-container\">\n",
              "      <div>\n",
              "<style scoped>\n",
              "    .dataframe tbody tr th:only-of-type {\n",
              "        vertical-align: middle;\n",
              "    }\n",
              "\n",
              "    .dataframe tbody tr th {\n",
              "        vertical-align: top;\n",
              "    }\n",
              "\n",
              "    .dataframe thead th {\n",
              "        text-align: right;\n",
              "    }\n",
              "</style>\n",
              "<table border=\"1\" class=\"dataframe\">\n",
              "  <thead>\n",
              "    <tr style=\"text-align: right;\">\n",
              "      <th></th>\n",
              "      <th>GRAVEDAD</th>\n",
              "      <th>CLASE_ACC</th>\n",
              "      <th>LOCALIDAD</th>\n",
              "      <th>FECHA_HORA_ACC</th>\n",
              "      <th>LATITUD</th>\n",
              "      <th>LONGITUD</th>\n",
              "      <th>AÑO</th>\n",
              "      <th>MES</th>\n",
              "      <th>DIA</th>\n",
              "      <th>HORA</th>\n",
              "    </tr>\n",
              "  </thead>\n",
              "  <tbody>\n",
              "    <tr>\n",
              "      <th>0</th>\n",
              "      <td>SOLO DANOS</td>\n",
              "      <td>CHOQUE</td>\n",
              "      <td>ENGATIVA</td>\n",
              "      <td>2017/06/12 05:30:00+00</td>\n",
              "      <td>4.693807</td>\n",
              "      <td>-74.090924</td>\n",
              "      <td>2017</td>\n",
              "      <td>6</td>\n",
              "      <td>12</td>\n",
              "      <td>5</td>\n",
              "    </tr>\n",
              "    <tr>\n",
              "      <th>1</th>\n",
              "      <td>CON HERIDOS</td>\n",
              "      <td>OTRO</td>\n",
              "      <td>PUENTE ARANDA</td>\n",
              "      <td>2020/11/19 02:05:00+00</td>\n",
              "      <td>4.603000</td>\n",
              "      <td>-74.121000</td>\n",
              "      <td>2020</td>\n",
              "      <td>11</td>\n",
              "      <td>19</td>\n",
              "      <td>2</td>\n",
              "    </tr>\n",
              "    <tr>\n",
              "      <th>2</th>\n",
              "      <td>SOLO DANOS</td>\n",
              "      <td>CHOQUE</td>\n",
              "      <td>USAQUEN</td>\n",
              "      <td>2020/11/10 13:30:00+00</td>\n",
              "      <td>4.682000</td>\n",
              "      <td>-74.042000</td>\n",
              "      <td>2020</td>\n",
              "      <td>11</td>\n",
              "      <td>10</td>\n",
              "      <td>13</td>\n",
              "    </tr>\n",
              "    <tr>\n",
              "      <th>3</th>\n",
              "      <td>SOLO DANOS</td>\n",
              "      <td>CHOQUE</td>\n",
              "      <td>CIUDAD BOLIVAR</td>\n",
              "      <td>2015/05/11 10:50:00+00</td>\n",
              "      <td>4.587187</td>\n",
              "      <td>-74.166937</td>\n",
              "      <td>2015</td>\n",
              "      <td>5</td>\n",
              "      <td>11</td>\n",
              "      <td>10</td>\n",
              "    </tr>\n",
              "    <tr>\n",
              "      <th>4</th>\n",
              "      <td>SOLO DANOS</td>\n",
              "      <td>CHOQUE</td>\n",
              "      <td>LOS MARTIRES</td>\n",
              "      <td>2016/06/08 21:30:00+00</td>\n",
              "      <td>4.607648</td>\n",
              "      <td>-74.092901</td>\n",
              "      <td>2016</td>\n",
              "      <td>6</td>\n",
              "      <td>8</td>\n",
              "      <td>21</td>\n",
              "    </tr>\n",
              "  </tbody>\n",
              "</table>\n",
              "</div>\n",
              "      <button class=\"colab-df-convert\" onclick=\"convertToInteractive('df-eb2fd7b3-a915-4585-982b-3a87a896fe9f')\"\n",
              "              title=\"Convert this dataframe to an interactive table.\"\n",
              "              style=\"display:none;\">\n",
              "\n",
              "  <svg xmlns=\"http://www.w3.org/2000/svg\" height=\"24px\"viewBox=\"0 0 24 24\"\n",
              "       width=\"24px\">\n",
              "    <path d=\"M0 0h24v24H0V0z\" fill=\"none\"/>\n",
              "    <path d=\"M18.56 5.44l.94 2.06.94-2.06 2.06-.94-2.06-.94-.94-2.06-.94 2.06-2.06.94zm-11 1L8.5 8.5l.94-2.06 2.06-.94-2.06-.94L8.5 2.5l-.94 2.06-2.06.94zm10 10l.94 2.06.94-2.06 2.06-.94-2.06-.94-.94-2.06-.94 2.06-2.06.94z\"/><path d=\"M17.41 7.96l-1.37-1.37c-.4-.4-.92-.59-1.43-.59-.52 0-1.04.2-1.43.59L10.3 9.45l-7.72 7.72c-.78.78-.78 2.05 0 2.83L4 21.41c.39.39.9.59 1.41.59.51 0 1.02-.2 1.41-.59l7.78-7.78 2.81-2.81c.8-.78.8-2.07 0-2.86zM5.41 20L4 18.59l7.72-7.72 1.47 1.35L5.41 20z\"/>\n",
              "  </svg>\n",
              "      </button>\n",
              "\n",
              "\n",
              "\n",
              "    <div id=\"df-073c56b5-5689-48d0-b414-9ddc742ca313\">\n",
              "      <button class=\"colab-df-quickchart\" onclick=\"quickchart('df-073c56b5-5689-48d0-b414-9ddc742ca313')\"\n",
              "              title=\"Suggest charts.\"\n",
              "              style=\"display:none;\">\n",
              "\n",
              "<svg xmlns=\"http://www.w3.org/2000/svg\" height=\"24px\"viewBox=\"0 0 24 24\"\n",
              "     width=\"24px\">\n",
              "    <g>\n",
              "        <path d=\"M19 3H5c-1.1 0-2 .9-2 2v14c0 1.1.9 2 2 2h14c1.1 0 2-.9 2-2V5c0-1.1-.9-2-2-2zM9 17H7v-7h2v7zm4 0h-2V7h2v10zm4 0h-2v-4h2v4z\"/>\n",
              "    </g>\n",
              "</svg>\n",
              "      </button>\n",
              "    </div>\n",
              "\n",
              "<style>\n",
              "  .colab-df-quickchart {\n",
              "    background-color: #E8F0FE;\n",
              "    border: none;\n",
              "    border-radius: 50%;\n",
              "    cursor: pointer;\n",
              "    display: none;\n",
              "    fill: #1967D2;\n",
              "    height: 32px;\n",
              "    padding: 0 0 0 0;\n",
              "    width: 32px;\n",
              "  }\n",
              "\n",
              "  .colab-df-quickchart:hover {\n",
              "    background-color: #E2EBFA;\n",
              "    box-shadow: 0px 1px 2px rgba(60, 64, 67, 0.3), 0px 1px 3px 1px rgba(60, 64, 67, 0.15);\n",
              "    fill: #174EA6;\n",
              "  }\n",
              "\n",
              "  [theme=dark] .colab-df-quickchart {\n",
              "    background-color: #3B4455;\n",
              "    fill: #D2E3FC;\n",
              "  }\n",
              "\n",
              "  [theme=dark] .colab-df-quickchart:hover {\n",
              "    background-color: #434B5C;\n",
              "    box-shadow: 0px 1px 3px 1px rgba(0, 0, 0, 0.15);\n",
              "    filter: drop-shadow(0px 1px 2px rgba(0, 0, 0, 0.3));\n",
              "    fill: #FFFFFF;\n",
              "  }\n",
              "</style>\n",
              "\n",
              "    <script>\n",
              "      async function quickchart(key) {\n",
              "        const containerElement = document.querySelector('#' + key);\n",
              "        const charts = await google.colab.kernel.invokeFunction(\n",
              "            'suggestCharts', [key], {});\n",
              "      }\n",
              "    </script>\n",
              "\n",
              "      <script>\n",
              "\n",
              "function displayQuickchartButton(domScope) {\n",
              "  let quickchartButtonEl =\n",
              "    domScope.querySelector('#df-073c56b5-5689-48d0-b414-9ddc742ca313 button.colab-df-quickchart');\n",
              "  quickchartButtonEl.style.display =\n",
              "    google.colab.kernel.accessAllowed ? 'block' : 'none';\n",
              "}\n",
              "\n",
              "        displayQuickchartButton(document);\n",
              "      </script>\n",
              "      <style>\n",
              "    .colab-df-container {\n",
              "      display:flex;\n",
              "      flex-wrap:wrap;\n",
              "      gap: 12px;\n",
              "    }\n",
              "\n",
              "    .colab-df-convert {\n",
              "      background-color: #E8F0FE;\n",
              "      border: none;\n",
              "      border-radius: 50%;\n",
              "      cursor: pointer;\n",
              "      display: none;\n",
              "      fill: #1967D2;\n",
              "      height: 32px;\n",
              "      padding: 0 0 0 0;\n",
              "      width: 32px;\n",
              "    }\n",
              "\n",
              "    .colab-df-convert:hover {\n",
              "      background-color: #E2EBFA;\n",
              "      box-shadow: 0px 1px 2px rgba(60, 64, 67, 0.3), 0px 1px 3px 1px rgba(60, 64, 67, 0.15);\n",
              "      fill: #174EA6;\n",
              "    }\n",
              "\n",
              "    [theme=dark] .colab-df-convert {\n",
              "      background-color: #3B4455;\n",
              "      fill: #D2E3FC;\n",
              "    }\n",
              "\n",
              "    [theme=dark] .colab-df-convert:hover {\n",
              "      background-color: #434B5C;\n",
              "      box-shadow: 0px 1px 3px 1px rgba(0, 0, 0, 0.15);\n",
              "      filter: drop-shadow(0px 1px 2px rgba(0, 0, 0, 0.3));\n",
              "      fill: #FFFFFF;\n",
              "    }\n",
              "  </style>\n",
              "\n",
              "      <script>\n",
              "        const buttonEl =\n",
              "          document.querySelector('#df-eb2fd7b3-a915-4585-982b-3a87a896fe9f button.colab-df-convert');\n",
              "        buttonEl.style.display =\n",
              "          google.colab.kernel.accessAllowed ? 'block' : 'none';\n",
              "\n",
              "        async function convertToInteractive(key) {\n",
              "          const element = document.querySelector('#df-eb2fd7b3-a915-4585-982b-3a87a896fe9f');\n",
              "          const dataTable =\n",
              "            await google.colab.kernel.invokeFunction('convertToInteractive',\n",
              "                                                     [key], {});\n",
              "          if (!dataTable) return;\n",
              "\n",
              "          const docLinkHtml = 'Like what you see? Visit the ' +\n",
              "            '<a target=\"_blank\" href=https://colab.research.google.com/notebooks/data_table.ipynb>data table notebook</a>'\n",
              "            + ' to learn more about interactive tables.';\n",
              "          element.innerHTML = '';\n",
              "          dataTable['output_type'] = 'display_data';\n",
              "          await google.colab.output.renderOutput(dataTable, element);\n",
              "          const docLink = document.createElement('div');\n",
              "          docLink.innerHTML = docLinkHtml;\n",
              "          element.appendChild(docLink);\n",
              "        }\n",
              "      </script>\n",
              "    </div>\n",
              "  </div>\n"
            ]
          },
          "metadata": {},
          "execution_count": 189
        }
      ],
      "source": [
        "data.head()"
      ]
    },
    {
      "cell_type": "code",
      "execution_count": null,
      "id": "bf1a0e7c",
      "metadata": {
        "id": "bf1a0e7c",
        "outputId": "a032d213-b52d-4af9-eca0-39f2248c30f4",
        "colab": {
          "base_uri": "https://localhost:8080/",
          "height": 206
        }
      },
      "outputs": [
        {
          "output_type": "execute_result",
          "data": {
            "text/plain": [
              "      GRAVEDAD CLASE_ACC       LOCALIDAD   LATITUD   LONGITUD   AÑO  MES  DIA  \\\n",
              "0   SOLO DANOS    CHOQUE        ENGATIVA  4.693807 -74.090924  2017    6   12   \n",
              "1  CON HERIDOS      OTRO   PUENTE ARANDA  4.603000 -74.121000  2020   11   19   \n",
              "2   SOLO DANOS    CHOQUE         USAQUEN  4.682000 -74.042000  2020   11   10   \n",
              "3   SOLO DANOS    CHOQUE  CIUDAD BOLIVAR  4.587187 -74.166937  2015    5   11   \n",
              "4   SOLO DANOS    CHOQUE    LOS MARTIRES  4.607648 -74.092901  2016    6    8   \n",
              "\n",
              "   HORA  \n",
              "0     5  \n",
              "1     2  \n",
              "2    13  \n",
              "3    10  \n",
              "4    21  "
            ],
            "text/html": [
              "\n",
              "\n",
              "  <div id=\"df-5198cc03-4228-48d3-a934-18a9333a392e\">\n",
              "    <div class=\"colab-df-container\">\n",
              "      <div>\n",
              "<style scoped>\n",
              "    .dataframe tbody tr th:only-of-type {\n",
              "        vertical-align: middle;\n",
              "    }\n",
              "\n",
              "    .dataframe tbody tr th {\n",
              "        vertical-align: top;\n",
              "    }\n",
              "\n",
              "    .dataframe thead th {\n",
              "        text-align: right;\n",
              "    }\n",
              "</style>\n",
              "<table border=\"1\" class=\"dataframe\">\n",
              "  <thead>\n",
              "    <tr style=\"text-align: right;\">\n",
              "      <th></th>\n",
              "      <th>GRAVEDAD</th>\n",
              "      <th>CLASE_ACC</th>\n",
              "      <th>LOCALIDAD</th>\n",
              "      <th>LATITUD</th>\n",
              "      <th>LONGITUD</th>\n",
              "      <th>AÑO</th>\n",
              "      <th>MES</th>\n",
              "      <th>DIA</th>\n",
              "      <th>HORA</th>\n",
              "    </tr>\n",
              "  </thead>\n",
              "  <tbody>\n",
              "    <tr>\n",
              "      <th>0</th>\n",
              "      <td>SOLO DANOS</td>\n",
              "      <td>CHOQUE</td>\n",
              "      <td>ENGATIVA</td>\n",
              "      <td>4.693807</td>\n",
              "      <td>-74.090924</td>\n",
              "      <td>2017</td>\n",
              "      <td>6</td>\n",
              "      <td>12</td>\n",
              "      <td>5</td>\n",
              "    </tr>\n",
              "    <tr>\n",
              "      <th>1</th>\n",
              "      <td>CON HERIDOS</td>\n",
              "      <td>OTRO</td>\n",
              "      <td>PUENTE ARANDA</td>\n",
              "      <td>4.603000</td>\n",
              "      <td>-74.121000</td>\n",
              "      <td>2020</td>\n",
              "      <td>11</td>\n",
              "      <td>19</td>\n",
              "      <td>2</td>\n",
              "    </tr>\n",
              "    <tr>\n",
              "      <th>2</th>\n",
              "      <td>SOLO DANOS</td>\n",
              "      <td>CHOQUE</td>\n",
              "      <td>USAQUEN</td>\n",
              "      <td>4.682000</td>\n",
              "      <td>-74.042000</td>\n",
              "      <td>2020</td>\n",
              "      <td>11</td>\n",
              "      <td>10</td>\n",
              "      <td>13</td>\n",
              "    </tr>\n",
              "    <tr>\n",
              "      <th>3</th>\n",
              "      <td>SOLO DANOS</td>\n",
              "      <td>CHOQUE</td>\n",
              "      <td>CIUDAD BOLIVAR</td>\n",
              "      <td>4.587187</td>\n",
              "      <td>-74.166937</td>\n",
              "      <td>2015</td>\n",
              "      <td>5</td>\n",
              "      <td>11</td>\n",
              "      <td>10</td>\n",
              "    </tr>\n",
              "    <tr>\n",
              "      <th>4</th>\n",
              "      <td>SOLO DANOS</td>\n",
              "      <td>CHOQUE</td>\n",
              "      <td>LOS MARTIRES</td>\n",
              "      <td>4.607648</td>\n",
              "      <td>-74.092901</td>\n",
              "      <td>2016</td>\n",
              "      <td>6</td>\n",
              "      <td>8</td>\n",
              "      <td>21</td>\n",
              "    </tr>\n",
              "  </tbody>\n",
              "</table>\n",
              "</div>\n",
              "      <button class=\"colab-df-convert\" onclick=\"convertToInteractive('df-5198cc03-4228-48d3-a934-18a9333a392e')\"\n",
              "              title=\"Convert this dataframe to an interactive table.\"\n",
              "              style=\"display:none;\">\n",
              "\n",
              "  <svg xmlns=\"http://www.w3.org/2000/svg\" height=\"24px\"viewBox=\"0 0 24 24\"\n",
              "       width=\"24px\">\n",
              "    <path d=\"M0 0h24v24H0V0z\" fill=\"none\"/>\n",
              "    <path d=\"M18.56 5.44l.94 2.06.94-2.06 2.06-.94-2.06-.94-.94-2.06-.94 2.06-2.06.94zm-11 1L8.5 8.5l.94-2.06 2.06-.94-2.06-.94L8.5 2.5l-.94 2.06-2.06.94zm10 10l.94 2.06.94-2.06 2.06-.94-2.06-.94-.94-2.06-.94 2.06-2.06.94z\"/><path d=\"M17.41 7.96l-1.37-1.37c-.4-.4-.92-.59-1.43-.59-.52 0-1.04.2-1.43.59L10.3 9.45l-7.72 7.72c-.78.78-.78 2.05 0 2.83L4 21.41c.39.39.9.59 1.41.59.51 0 1.02-.2 1.41-.59l7.78-7.78 2.81-2.81c.8-.78.8-2.07 0-2.86zM5.41 20L4 18.59l7.72-7.72 1.47 1.35L5.41 20z\"/>\n",
              "  </svg>\n",
              "      </button>\n",
              "\n",
              "\n",
              "\n",
              "    <div id=\"df-cf5dfccc-3504-4f6b-adb2-e33dc7f31545\">\n",
              "      <button class=\"colab-df-quickchart\" onclick=\"quickchart('df-cf5dfccc-3504-4f6b-adb2-e33dc7f31545')\"\n",
              "              title=\"Suggest charts.\"\n",
              "              style=\"display:none;\">\n",
              "\n",
              "<svg xmlns=\"http://www.w3.org/2000/svg\" height=\"24px\"viewBox=\"0 0 24 24\"\n",
              "     width=\"24px\">\n",
              "    <g>\n",
              "        <path d=\"M19 3H5c-1.1 0-2 .9-2 2v14c0 1.1.9 2 2 2h14c1.1 0 2-.9 2-2V5c0-1.1-.9-2-2-2zM9 17H7v-7h2v7zm4 0h-2V7h2v10zm4 0h-2v-4h2v4z\"/>\n",
              "    </g>\n",
              "</svg>\n",
              "      </button>\n",
              "    </div>\n",
              "\n",
              "<style>\n",
              "  .colab-df-quickchart {\n",
              "    background-color: #E8F0FE;\n",
              "    border: none;\n",
              "    border-radius: 50%;\n",
              "    cursor: pointer;\n",
              "    display: none;\n",
              "    fill: #1967D2;\n",
              "    height: 32px;\n",
              "    padding: 0 0 0 0;\n",
              "    width: 32px;\n",
              "  }\n",
              "\n",
              "  .colab-df-quickchart:hover {\n",
              "    background-color: #E2EBFA;\n",
              "    box-shadow: 0px 1px 2px rgba(60, 64, 67, 0.3), 0px 1px 3px 1px rgba(60, 64, 67, 0.15);\n",
              "    fill: #174EA6;\n",
              "  }\n",
              "\n",
              "  [theme=dark] .colab-df-quickchart {\n",
              "    background-color: #3B4455;\n",
              "    fill: #D2E3FC;\n",
              "  }\n",
              "\n",
              "  [theme=dark] .colab-df-quickchart:hover {\n",
              "    background-color: #434B5C;\n",
              "    box-shadow: 0px 1px 3px 1px rgba(0, 0, 0, 0.15);\n",
              "    filter: drop-shadow(0px 1px 2px rgba(0, 0, 0, 0.3));\n",
              "    fill: #FFFFFF;\n",
              "  }\n",
              "</style>\n",
              "\n",
              "    <script>\n",
              "      async function quickchart(key) {\n",
              "        const containerElement = document.querySelector('#' + key);\n",
              "        const charts = await google.colab.kernel.invokeFunction(\n",
              "            'suggestCharts', [key], {});\n",
              "      }\n",
              "    </script>\n",
              "\n",
              "      <script>\n",
              "\n",
              "function displayQuickchartButton(domScope) {\n",
              "  let quickchartButtonEl =\n",
              "    domScope.querySelector('#df-cf5dfccc-3504-4f6b-adb2-e33dc7f31545 button.colab-df-quickchart');\n",
              "  quickchartButtonEl.style.display =\n",
              "    google.colab.kernel.accessAllowed ? 'block' : 'none';\n",
              "}\n",
              "\n",
              "        displayQuickchartButton(document);\n",
              "      </script>\n",
              "      <style>\n",
              "    .colab-df-container {\n",
              "      display:flex;\n",
              "      flex-wrap:wrap;\n",
              "      gap: 12px;\n",
              "    }\n",
              "\n",
              "    .colab-df-convert {\n",
              "      background-color: #E8F0FE;\n",
              "      border: none;\n",
              "      border-radius: 50%;\n",
              "      cursor: pointer;\n",
              "      display: none;\n",
              "      fill: #1967D2;\n",
              "      height: 32px;\n",
              "      padding: 0 0 0 0;\n",
              "      width: 32px;\n",
              "    }\n",
              "\n",
              "    .colab-df-convert:hover {\n",
              "      background-color: #E2EBFA;\n",
              "      box-shadow: 0px 1px 2px rgba(60, 64, 67, 0.3), 0px 1px 3px 1px rgba(60, 64, 67, 0.15);\n",
              "      fill: #174EA6;\n",
              "    }\n",
              "\n",
              "    [theme=dark] .colab-df-convert {\n",
              "      background-color: #3B4455;\n",
              "      fill: #D2E3FC;\n",
              "    }\n",
              "\n",
              "    [theme=dark] .colab-df-convert:hover {\n",
              "      background-color: #434B5C;\n",
              "      box-shadow: 0px 1px 3px 1px rgba(0, 0, 0, 0.15);\n",
              "      filter: drop-shadow(0px 1px 2px rgba(0, 0, 0, 0.3));\n",
              "      fill: #FFFFFF;\n",
              "    }\n",
              "  </style>\n",
              "\n",
              "      <script>\n",
              "        const buttonEl =\n",
              "          document.querySelector('#df-5198cc03-4228-48d3-a934-18a9333a392e button.colab-df-convert');\n",
              "        buttonEl.style.display =\n",
              "          google.colab.kernel.accessAllowed ? 'block' : 'none';\n",
              "\n",
              "        async function convertToInteractive(key) {\n",
              "          const element = document.querySelector('#df-5198cc03-4228-48d3-a934-18a9333a392e');\n",
              "          const dataTable =\n",
              "            await google.colab.kernel.invokeFunction('convertToInteractive',\n",
              "                                                     [key], {});\n",
              "          if (!dataTable) return;\n",
              "\n",
              "          const docLinkHtml = 'Like what you see? Visit the ' +\n",
              "            '<a target=\"_blank\" href=https://colab.research.google.com/notebooks/data_table.ipynb>data table notebook</a>'\n",
              "            + ' to learn more about interactive tables.';\n",
              "          element.innerHTML = '';\n",
              "          dataTable['output_type'] = 'display_data';\n",
              "          await google.colab.output.renderOutput(dataTable, element);\n",
              "          const docLink = document.createElement('div');\n",
              "          docLink.innerHTML = docLinkHtml;\n",
              "          element.appendChild(docLink);\n",
              "        }\n",
              "      </script>\n",
              "    </div>\n",
              "  </div>\n"
            ]
          },
          "metadata": {},
          "execution_count": 190
        }
      ],
      "source": [
        "data = data.drop('FECHA_HORA_ACC',axis=1)\n",
        "data.head()"
      ]
    },
    {
      "cell_type": "code",
      "execution_count": null,
      "id": "c6e515e3",
      "metadata": {
        "id": "c6e515e3",
        "outputId": "6d24095f-c8d5-4c64-b9a1-f1cc3109c777",
        "colab": {
          "base_uri": "https://localhost:8080/"
        }
      },
      "outputs": [
        {
          "output_type": "execute_result",
          "data": {
            "text/plain": [
              "(199146, 9)"
            ]
          },
          "metadata": {},
          "execution_count": 191
        }
      ],
      "source": [
        "data.shape"
      ]
    },
    {
      "cell_type": "code",
      "execution_count": null,
      "id": "364abe43",
      "metadata": {
        "id": "364abe43",
        "outputId": "0bb079d9-2b6c-444b-da63-9cdbc62a2711",
        "colab": {
          "base_uri": "https://localhost:8080/",
          "height": 404
        }
      },
      "outputs": [
        {
          "output_type": "execute_result",
          "data": {
            "text/plain": [
              "      GRAVEDAD   LATITUD   LONGITUD   AÑO  MES  DIA  HORA  \\\n",
              "0   SOLO DANOS  4.693807 -74.090924  2017    6   12     5   \n",
              "1  CON HERIDOS  4.603000 -74.121000  2020   11   19     2   \n",
              "2   SOLO DANOS  4.682000 -74.042000  2020   11   10    13   \n",
              "3   SOLO DANOS  4.587187 -74.166937  2015    5   11    10   \n",
              "4   SOLO DANOS  4.607648 -74.092901  2016    6    8    21   \n",
              "\n",
              "   CLASE_ACC_ATROPELLO  CLASE_ACC_AUTOLESION  CLASE_ACC_CAIDA DE OCUPANTE  \\\n",
              "0                    0                     0                            0   \n",
              "1                    0                     0                            0   \n",
              "2                    0                     0                            0   \n",
              "3                    0                     0                            0   \n",
              "4                    0                     0                            0   \n",
              "\n",
              "   ...  LOCALIDAD_PUENTE ARANDA  LOCALIDAD_RAFAEL URIBE URIBE  \\\n",
              "0  ...                        0                             0   \n",
              "1  ...                        1                             0   \n",
              "2  ...                        0                             0   \n",
              "3  ...                        0                             0   \n",
              "4  ...                        0                             0   \n",
              "\n",
              "   LOCALIDAD_SAN CRISTOBAL  LOCALIDAD_SANTA FE  LOCALIDAD_SUBA  \\\n",
              "0                        0                   0               0   \n",
              "1                        0                   0               0   \n",
              "2                        0                   0               0   \n",
              "3                        0                   0               0   \n",
              "4                        0                   0               0   \n",
              "\n",
              "   LOCALIDAD_SUMAPAZ  LOCALIDAD_TEUSAQUILLO  LOCALIDAD_TUNJUELITO  \\\n",
              "0                  0                      0                     0   \n",
              "1                  0                      0                     0   \n",
              "2                  0                      0                     0   \n",
              "3                  0                      0                     0   \n",
              "4                  0                      0                     0   \n",
              "\n",
              "   LOCALIDAD_USAQUEN  LOCALIDAD_USME  \n",
              "0                  0               0  \n",
              "1                  0               0  \n",
              "2                  1               0  \n",
              "3                  0               0  \n",
              "4                  0               0  \n",
              "\n",
              "[5 rows x 34 columns]"
            ],
            "text/html": [
              "\n",
              "\n",
              "  <div id=\"df-a39e89c6-7d0e-448e-a0f9-bbdbf12d42a4\">\n",
              "    <div class=\"colab-df-container\">\n",
              "      <div>\n",
              "<style scoped>\n",
              "    .dataframe tbody tr th:only-of-type {\n",
              "        vertical-align: middle;\n",
              "    }\n",
              "\n",
              "    .dataframe tbody tr th {\n",
              "        vertical-align: top;\n",
              "    }\n",
              "\n",
              "    .dataframe thead th {\n",
              "        text-align: right;\n",
              "    }\n",
              "</style>\n",
              "<table border=\"1\" class=\"dataframe\">\n",
              "  <thead>\n",
              "    <tr style=\"text-align: right;\">\n",
              "      <th></th>\n",
              "      <th>GRAVEDAD</th>\n",
              "      <th>LATITUD</th>\n",
              "      <th>LONGITUD</th>\n",
              "      <th>AÑO</th>\n",
              "      <th>MES</th>\n",
              "      <th>DIA</th>\n",
              "      <th>HORA</th>\n",
              "      <th>CLASE_ACC_ATROPELLO</th>\n",
              "      <th>CLASE_ACC_AUTOLESION</th>\n",
              "      <th>CLASE_ACC_CAIDA DE OCUPANTE</th>\n",
              "      <th>...</th>\n",
              "      <th>LOCALIDAD_PUENTE ARANDA</th>\n",
              "      <th>LOCALIDAD_RAFAEL URIBE URIBE</th>\n",
              "      <th>LOCALIDAD_SAN CRISTOBAL</th>\n",
              "      <th>LOCALIDAD_SANTA FE</th>\n",
              "      <th>LOCALIDAD_SUBA</th>\n",
              "      <th>LOCALIDAD_SUMAPAZ</th>\n",
              "      <th>LOCALIDAD_TEUSAQUILLO</th>\n",
              "      <th>LOCALIDAD_TUNJUELITO</th>\n",
              "      <th>LOCALIDAD_USAQUEN</th>\n",
              "      <th>LOCALIDAD_USME</th>\n",
              "    </tr>\n",
              "  </thead>\n",
              "  <tbody>\n",
              "    <tr>\n",
              "      <th>0</th>\n",
              "      <td>SOLO DANOS</td>\n",
              "      <td>4.693807</td>\n",
              "      <td>-74.090924</td>\n",
              "      <td>2017</td>\n",
              "      <td>6</td>\n",
              "      <td>12</td>\n",
              "      <td>5</td>\n",
              "      <td>0</td>\n",
              "      <td>0</td>\n",
              "      <td>0</td>\n",
              "      <td>...</td>\n",
              "      <td>0</td>\n",
              "      <td>0</td>\n",
              "      <td>0</td>\n",
              "      <td>0</td>\n",
              "      <td>0</td>\n",
              "      <td>0</td>\n",
              "      <td>0</td>\n",
              "      <td>0</td>\n",
              "      <td>0</td>\n",
              "      <td>0</td>\n",
              "    </tr>\n",
              "    <tr>\n",
              "      <th>1</th>\n",
              "      <td>CON HERIDOS</td>\n",
              "      <td>4.603000</td>\n",
              "      <td>-74.121000</td>\n",
              "      <td>2020</td>\n",
              "      <td>11</td>\n",
              "      <td>19</td>\n",
              "      <td>2</td>\n",
              "      <td>0</td>\n",
              "      <td>0</td>\n",
              "      <td>0</td>\n",
              "      <td>...</td>\n",
              "      <td>1</td>\n",
              "      <td>0</td>\n",
              "      <td>0</td>\n",
              "      <td>0</td>\n",
              "      <td>0</td>\n",
              "      <td>0</td>\n",
              "      <td>0</td>\n",
              "      <td>0</td>\n",
              "      <td>0</td>\n",
              "      <td>0</td>\n",
              "    </tr>\n",
              "    <tr>\n",
              "      <th>2</th>\n",
              "      <td>SOLO DANOS</td>\n",
              "      <td>4.682000</td>\n",
              "      <td>-74.042000</td>\n",
              "      <td>2020</td>\n",
              "      <td>11</td>\n",
              "      <td>10</td>\n",
              "      <td>13</td>\n",
              "      <td>0</td>\n",
              "      <td>0</td>\n",
              "      <td>0</td>\n",
              "      <td>...</td>\n",
              "      <td>0</td>\n",
              "      <td>0</td>\n",
              "      <td>0</td>\n",
              "      <td>0</td>\n",
              "      <td>0</td>\n",
              "      <td>0</td>\n",
              "      <td>0</td>\n",
              "      <td>0</td>\n",
              "      <td>1</td>\n",
              "      <td>0</td>\n",
              "    </tr>\n",
              "    <tr>\n",
              "      <th>3</th>\n",
              "      <td>SOLO DANOS</td>\n",
              "      <td>4.587187</td>\n",
              "      <td>-74.166937</td>\n",
              "      <td>2015</td>\n",
              "      <td>5</td>\n",
              "      <td>11</td>\n",
              "      <td>10</td>\n",
              "      <td>0</td>\n",
              "      <td>0</td>\n",
              "      <td>0</td>\n",
              "      <td>...</td>\n",
              "      <td>0</td>\n",
              "      <td>0</td>\n",
              "      <td>0</td>\n",
              "      <td>0</td>\n",
              "      <td>0</td>\n",
              "      <td>0</td>\n",
              "      <td>0</td>\n",
              "      <td>0</td>\n",
              "      <td>0</td>\n",
              "      <td>0</td>\n",
              "    </tr>\n",
              "    <tr>\n",
              "      <th>4</th>\n",
              "      <td>SOLO DANOS</td>\n",
              "      <td>4.607648</td>\n",
              "      <td>-74.092901</td>\n",
              "      <td>2016</td>\n",
              "      <td>6</td>\n",
              "      <td>8</td>\n",
              "      <td>21</td>\n",
              "      <td>0</td>\n",
              "      <td>0</td>\n",
              "      <td>0</td>\n",
              "      <td>...</td>\n",
              "      <td>0</td>\n",
              "      <td>0</td>\n",
              "      <td>0</td>\n",
              "      <td>0</td>\n",
              "      <td>0</td>\n",
              "      <td>0</td>\n",
              "      <td>0</td>\n",
              "      <td>0</td>\n",
              "      <td>0</td>\n",
              "      <td>0</td>\n",
              "    </tr>\n",
              "  </tbody>\n",
              "</table>\n",
              "<p>5 rows × 34 columns</p>\n",
              "</div>\n",
              "      <button class=\"colab-df-convert\" onclick=\"convertToInteractive('df-a39e89c6-7d0e-448e-a0f9-bbdbf12d42a4')\"\n",
              "              title=\"Convert this dataframe to an interactive table.\"\n",
              "              style=\"display:none;\">\n",
              "\n",
              "  <svg xmlns=\"http://www.w3.org/2000/svg\" height=\"24px\"viewBox=\"0 0 24 24\"\n",
              "       width=\"24px\">\n",
              "    <path d=\"M0 0h24v24H0V0z\" fill=\"none\"/>\n",
              "    <path d=\"M18.56 5.44l.94 2.06.94-2.06 2.06-.94-2.06-.94-.94-2.06-.94 2.06-2.06.94zm-11 1L8.5 8.5l.94-2.06 2.06-.94-2.06-.94L8.5 2.5l-.94 2.06-2.06.94zm10 10l.94 2.06.94-2.06 2.06-.94-2.06-.94-.94-2.06-.94 2.06-2.06.94z\"/><path d=\"M17.41 7.96l-1.37-1.37c-.4-.4-.92-.59-1.43-.59-.52 0-1.04.2-1.43.59L10.3 9.45l-7.72 7.72c-.78.78-.78 2.05 0 2.83L4 21.41c.39.39.9.59 1.41.59.51 0 1.02-.2 1.41-.59l7.78-7.78 2.81-2.81c.8-.78.8-2.07 0-2.86zM5.41 20L4 18.59l7.72-7.72 1.47 1.35L5.41 20z\"/>\n",
              "  </svg>\n",
              "      </button>\n",
              "\n",
              "\n",
              "\n",
              "    <div id=\"df-e659d063-31b8-446a-b0d7-e750ccd2a55b\">\n",
              "      <button class=\"colab-df-quickchart\" onclick=\"quickchart('df-e659d063-31b8-446a-b0d7-e750ccd2a55b')\"\n",
              "              title=\"Suggest charts.\"\n",
              "              style=\"display:none;\">\n",
              "\n",
              "<svg xmlns=\"http://www.w3.org/2000/svg\" height=\"24px\"viewBox=\"0 0 24 24\"\n",
              "     width=\"24px\">\n",
              "    <g>\n",
              "        <path d=\"M19 3H5c-1.1 0-2 .9-2 2v14c0 1.1.9 2 2 2h14c1.1 0 2-.9 2-2V5c0-1.1-.9-2-2-2zM9 17H7v-7h2v7zm4 0h-2V7h2v10zm4 0h-2v-4h2v4z\"/>\n",
              "    </g>\n",
              "</svg>\n",
              "      </button>\n",
              "    </div>\n",
              "\n",
              "<style>\n",
              "  .colab-df-quickchart {\n",
              "    background-color: #E8F0FE;\n",
              "    border: none;\n",
              "    border-radius: 50%;\n",
              "    cursor: pointer;\n",
              "    display: none;\n",
              "    fill: #1967D2;\n",
              "    height: 32px;\n",
              "    padding: 0 0 0 0;\n",
              "    width: 32px;\n",
              "  }\n",
              "\n",
              "  .colab-df-quickchart:hover {\n",
              "    background-color: #E2EBFA;\n",
              "    box-shadow: 0px 1px 2px rgba(60, 64, 67, 0.3), 0px 1px 3px 1px rgba(60, 64, 67, 0.15);\n",
              "    fill: #174EA6;\n",
              "  }\n",
              "\n",
              "  [theme=dark] .colab-df-quickchart {\n",
              "    background-color: #3B4455;\n",
              "    fill: #D2E3FC;\n",
              "  }\n",
              "\n",
              "  [theme=dark] .colab-df-quickchart:hover {\n",
              "    background-color: #434B5C;\n",
              "    box-shadow: 0px 1px 3px 1px rgba(0, 0, 0, 0.15);\n",
              "    filter: drop-shadow(0px 1px 2px rgba(0, 0, 0, 0.3));\n",
              "    fill: #FFFFFF;\n",
              "  }\n",
              "</style>\n",
              "\n",
              "    <script>\n",
              "      async function quickchart(key) {\n",
              "        const containerElement = document.querySelector('#' + key);\n",
              "        const charts = await google.colab.kernel.invokeFunction(\n",
              "            'suggestCharts', [key], {});\n",
              "      }\n",
              "    </script>\n",
              "\n",
              "      <script>\n",
              "\n",
              "function displayQuickchartButton(domScope) {\n",
              "  let quickchartButtonEl =\n",
              "    domScope.querySelector('#df-e659d063-31b8-446a-b0d7-e750ccd2a55b button.colab-df-quickchart');\n",
              "  quickchartButtonEl.style.display =\n",
              "    google.colab.kernel.accessAllowed ? 'block' : 'none';\n",
              "}\n",
              "\n",
              "        displayQuickchartButton(document);\n",
              "      </script>\n",
              "      <style>\n",
              "    .colab-df-container {\n",
              "      display:flex;\n",
              "      flex-wrap:wrap;\n",
              "      gap: 12px;\n",
              "    }\n",
              "\n",
              "    .colab-df-convert {\n",
              "      background-color: #E8F0FE;\n",
              "      border: none;\n",
              "      border-radius: 50%;\n",
              "      cursor: pointer;\n",
              "      display: none;\n",
              "      fill: #1967D2;\n",
              "      height: 32px;\n",
              "      padding: 0 0 0 0;\n",
              "      width: 32px;\n",
              "    }\n",
              "\n",
              "    .colab-df-convert:hover {\n",
              "      background-color: #E2EBFA;\n",
              "      box-shadow: 0px 1px 2px rgba(60, 64, 67, 0.3), 0px 1px 3px 1px rgba(60, 64, 67, 0.15);\n",
              "      fill: #174EA6;\n",
              "    }\n",
              "\n",
              "    [theme=dark] .colab-df-convert {\n",
              "      background-color: #3B4455;\n",
              "      fill: #D2E3FC;\n",
              "    }\n",
              "\n",
              "    [theme=dark] .colab-df-convert:hover {\n",
              "      background-color: #434B5C;\n",
              "      box-shadow: 0px 1px 3px 1px rgba(0, 0, 0, 0.15);\n",
              "      filter: drop-shadow(0px 1px 2px rgba(0, 0, 0, 0.3));\n",
              "      fill: #FFFFFF;\n",
              "    }\n",
              "  </style>\n",
              "\n",
              "      <script>\n",
              "        const buttonEl =\n",
              "          document.querySelector('#df-a39e89c6-7d0e-448e-a0f9-bbdbf12d42a4 button.colab-df-convert');\n",
              "        buttonEl.style.display =\n",
              "          google.colab.kernel.accessAllowed ? 'block' : 'none';\n",
              "\n",
              "        async function convertToInteractive(key) {\n",
              "          const element = document.querySelector('#df-a39e89c6-7d0e-448e-a0f9-bbdbf12d42a4');\n",
              "          const dataTable =\n",
              "            await google.colab.kernel.invokeFunction('convertToInteractive',\n",
              "                                                     [key], {});\n",
              "          if (!dataTable) return;\n",
              "\n",
              "          const docLinkHtml = 'Like what you see? Visit the ' +\n",
              "            '<a target=\"_blank\" href=https://colab.research.google.com/notebooks/data_table.ipynb>data table notebook</a>'\n",
              "            + ' to learn more about interactive tables.';\n",
              "          element.innerHTML = '';\n",
              "          dataTable['output_type'] = 'display_data';\n",
              "          await google.colab.output.renderOutput(dataTable, element);\n",
              "          const docLink = document.createElement('div');\n",
              "          docLink.innerHTML = docLinkHtml;\n",
              "          element.appendChild(docLink);\n",
              "        }\n",
              "      </script>\n",
              "    </div>\n",
              "  </div>\n"
            ]
          },
          "metadata": {},
          "execution_count": 192
        }
      ],
      "source": [
        "data = pd.get_dummies(data, columns=['CLASE_ACC','LOCALIDAD'])\n",
        "data.head()"
      ]
    },
    {
      "cell_type": "code",
      "execution_count": null,
      "id": "01aa0450",
      "metadata": {
        "id": "01aa0450",
        "outputId": "45262bdf-e58c-46a5-d1d2-e2353f7b27ef",
        "colab": {
          "base_uri": "https://localhost:8080/"
        }
      },
      "outputs": [
        {
          "output_type": "execute_result",
          "data": {
            "text/plain": [
              "(199146, 34)"
            ]
          },
          "metadata": {},
          "execution_count": 193
        }
      ],
      "source": [
        "data.shape"
      ]
    },
    {
      "cell_type": "code",
      "source": [
        "data.dtypes"
      ],
      "metadata": {
        "colab": {
          "base_uri": "https://localhost:8080/"
        },
        "id": "t1wM_FwkyWWH",
        "outputId": "e07562c3-0c77-4284-c871-e23b1606600a"
      },
      "id": "t1wM_FwkyWWH",
      "execution_count": null,
      "outputs": [
        {
          "output_type": "execute_result",
          "data": {
            "text/plain": [
              "GRAVEDAD                         object\n",
              "LATITUD                         float64\n",
              "LONGITUD                        float64\n",
              "AÑO                               int64\n",
              "MES                               int64\n",
              "DIA                               int64\n",
              "HORA                              int64\n",
              "CLASE_ACC_ATROPELLO               uint8\n",
              "CLASE_ACC_AUTOLESION              uint8\n",
              "CLASE_ACC_CAIDA DE OCUPANTE       uint8\n",
              "CLASE_ACC_CHOQUE                  uint8\n",
              "CLASE_ACC_INCENDIO                uint8\n",
              "CLASE_ACC_OTRO                    uint8\n",
              "CLASE_ACC_VOLCAMIENTO             uint8\n",
              "LOCALIDAD_ANTONIO NARINO          uint8\n",
              "LOCALIDAD_BARRIOS UNIDOS          uint8\n",
              "LOCALIDAD_BOSA                    uint8\n",
              "LOCALIDAD_CANDELARIA              uint8\n",
              "LOCALIDAD_CHAPINERO               uint8\n",
              "LOCALIDAD_CIUDAD BOLIVAR          uint8\n",
              "LOCALIDAD_ENGATIVA                uint8\n",
              "LOCALIDAD_FONTIBON                uint8\n",
              "LOCALIDAD_KENNEDY                 uint8\n",
              "LOCALIDAD_LOS MARTIRES            uint8\n",
              "LOCALIDAD_PUENTE ARANDA           uint8\n",
              "LOCALIDAD_RAFAEL URIBE URIBE      uint8\n",
              "LOCALIDAD_SAN CRISTOBAL           uint8\n",
              "LOCALIDAD_SANTA FE                uint8\n",
              "LOCALIDAD_SUBA                    uint8\n",
              "LOCALIDAD_SUMAPAZ                 uint8\n",
              "LOCALIDAD_TEUSAQUILLO             uint8\n",
              "LOCALIDAD_TUNJUELITO              uint8\n",
              "LOCALIDAD_USAQUEN                 uint8\n",
              "LOCALIDAD_USME                    uint8\n",
              "dtype: object"
            ]
          },
          "metadata": {},
          "execution_count": 194
        }
      ]
    },
    {
      "cell_type": "code",
      "source": [
        "data['GRAVEDAD']"
      ],
      "metadata": {
        "colab": {
          "base_uri": "https://localhost:8080/"
        },
        "id": "Y79Mfk0X1DTu",
        "outputId": "968e98a3-f9ab-4c79-fe3a-184361764089"
      },
      "id": "Y79Mfk0X1DTu",
      "execution_count": null,
      "outputs": [
        {
          "output_type": "execute_result",
          "data": {
            "text/plain": [
              "0          SOLO DANOS\n",
              "1         CON HERIDOS\n",
              "2          SOLO DANOS\n",
              "3          SOLO DANOS\n",
              "4          SOLO DANOS\n",
              "             ...     \n",
              "199141     SOLO DANOS\n",
              "199142    CON HERIDOS\n",
              "199143    CON HERIDOS\n",
              "199144    CON HERIDOS\n",
              "199145    CON HERIDOS\n",
              "Name: GRAVEDAD, Length: 199146, dtype: object"
            ]
          },
          "metadata": {},
          "execution_count": 195
        }
      ]
    },
    {
      "cell_type": "code",
      "source": [
        "data['GRAVEDAD'] = pd.Categorical(data['GRAVEDAD'])\n",
        "categories = data.GRAVEDAD.cat.categories\n",
        "codes = data.GRAVEDAD.cat.codes"
      ],
      "metadata": {
        "id": "tMOAObkD1GYh"
      },
      "id": "tMOAObkD1GYh",
      "execution_count": null,
      "outputs": []
    },
    {
      "cell_type": "code",
      "source": [
        "categories"
      ],
      "metadata": {
        "colab": {
          "base_uri": "https://localhost:8080/"
        },
        "id": "mMCINNJC1KYv",
        "outputId": "71ec44de-87b0-4492-912b-8dc1e0507db8"
      },
      "id": "mMCINNJC1KYv",
      "execution_count": null,
      "outputs": [
        {
          "output_type": "execute_result",
          "data": {
            "text/plain": [
              "Index(['CON HERIDOS', 'CON MUERTOS', 'SOLO DANOS'], dtype='object')"
            ]
          },
          "metadata": {},
          "execution_count": 197
        }
      ]
    },
    {
      "cell_type": "code",
      "source": [
        "data['GRAVEDAD'] = data.GRAVEDAD.cat.codes\n",
        "data.dtypes"
      ],
      "metadata": {
        "colab": {
          "base_uri": "https://localhost:8080/"
        },
        "id": "VIlwSDgHzJOb",
        "outputId": "1520a091-2245-43e5-cc46-2f694906569f"
      },
      "id": "VIlwSDgHzJOb",
      "execution_count": null,
      "outputs": [
        {
          "output_type": "execute_result",
          "data": {
            "text/plain": [
              "GRAVEDAD                           int8\n",
              "LATITUD                         float64\n",
              "LONGITUD                        float64\n",
              "AÑO                               int64\n",
              "MES                               int64\n",
              "DIA                               int64\n",
              "HORA                              int64\n",
              "CLASE_ACC_ATROPELLO               uint8\n",
              "CLASE_ACC_AUTOLESION              uint8\n",
              "CLASE_ACC_CAIDA DE OCUPANTE       uint8\n",
              "CLASE_ACC_CHOQUE                  uint8\n",
              "CLASE_ACC_INCENDIO                uint8\n",
              "CLASE_ACC_OTRO                    uint8\n",
              "CLASE_ACC_VOLCAMIENTO             uint8\n",
              "LOCALIDAD_ANTONIO NARINO          uint8\n",
              "LOCALIDAD_BARRIOS UNIDOS          uint8\n",
              "LOCALIDAD_BOSA                    uint8\n",
              "LOCALIDAD_CANDELARIA              uint8\n",
              "LOCALIDAD_CHAPINERO               uint8\n",
              "LOCALIDAD_CIUDAD BOLIVAR          uint8\n",
              "LOCALIDAD_ENGATIVA                uint8\n",
              "LOCALIDAD_FONTIBON                uint8\n",
              "LOCALIDAD_KENNEDY                 uint8\n",
              "LOCALIDAD_LOS MARTIRES            uint8\n",
              "LOCALIDAD_PUENTE ARANDA           uint8\n",
              "LOCALIDAD_RAFAEL URIBE URIBE      uint8\n",
              "LOCALIDAD_SAN CRISTOBAL           uint8\n",
              "LOCALIDAD_SANTA FE                uint8\n",
              "LOCALIDAD_SUBA                    uint8\n",
              "LOCALIDAD_SUMAPAZ                 uint8\n",
              "LOCALIDAD_TEUSAQUILLO             uint8\n",
              "LOCALIDAD_TUNJUELITO              uint8\n",
              "LOCALIDAD_USAQUEN                 uint8\n",
              "LOCALIDAD_USME                    uint8\n",
              "dtype: object"
            ]
          },
          "metadata": {},
          "execution_count": 198
        }
      ]
    },
    {
      "cell_type": "code",
      "source": [
        "data['GRAVEDAD'].head()"
      ],
      "metadata": {
        "colab": {
          "base_uri": "https://localhost:8080/"
        },
        "id": "Wm2Biigb0CcH",
        "outputId": "13a6f5a6-02f8-4f51-ec8f-72c350d235d3"
      },
      "id": "Wm2Biigb0CcH",
      "execution_count": null,
      "outputs": [
        {
          "output_type": "execute_result",
          "data": {
            "text/plain": [
              "0    2\n",
              "1    0\n",
              "2    2\n",
              "3    2\n",
              "4    2\n",
              "Name: GRAVEDAD, dtype: int8"
            ]
          },
          "metadata": {},
          "execution_count": 172
        }
      ]
    },
    {
      "cell_type": "code",
      "execution_count": null,
      "id": "f3587c51",
      "metadata": {
        "id": "f3587c51",
        "outputId": "1ff8c0ee-ca07-4ad4-c2e7-001c4e888e14",
        "colab": {
          "base_uri": "https://localhost:8080/"
        }
      },
      "outputs": [
        {
          "output_type": "execute_result",
          "data": {
            "text/plain": [
              "(199146, 33)"
            ]
          },
          "metadata": {},
          "execution_count": 173
        }
      ],
      "source": [
        "X = data.drop('GRAVEDAD', axis=1)\n",
        "X.shape"
      ]
    },
    {
      "cell_type": "code",
      "execution_count": null,
      "id": "4d270d84",
      "metadata": {
        "id": "4d270d84",
        "colab": {
          "base_uri": "https://localhost:8080/"
        },
        "outputId": "e5db51c0-a7b9-4a40-d8c6-e386e5aa8151"
      },
      "outputs": [
        {
          "output_type": "execute_result",
          "data": {
            "text/plain": [
              "(199146, 1)"
            ]
          },
          "metadata": {},
          "execution_count": 174
        }
      ],
      "source": [
        "Y=pd.DataFrame()\n",
        "Y['GRAVEDAD'] = data['GRAVEDAD']\n",
        "Y.shape"
      ]
    },
    {
      "cell_type": "code",
      "source": [
        "print(data['GRAVEDAD'].value_counts(normalize=True).mul(100).round(1).astype(str)+'%')"
      ],
      "metadata": {
        "colab": {
          "base_uri": "https://localhost:8080/"
        },
        "id": "WgmMQbokx-Xi",
        "outputId": "b9ceebe3-de2d-40d2-a588-03a747b1a9bb"
      },
      "id": "WgmMQbokx-Xi",
      "execution_count": null,
      "outputs": [
        {
          "output_type": "stream",
          "name": "stdout",
          "text": [
            "2    64.4%\n",
            "0    34.0%\n",
            "1     1.6%\n",
            "Name: GRAVEDAD, dtype: object\n"
          ]
        }
      ]
    },
    {
      "cell_type": "markdown",
      "source": [
        "### Transformación datos: media cero y varianza unitaria"
      ],
      "metadata": {
        "id": "WctsMc7cJWH3"
      },
      "id": "WctsMc7cJWH3"
    },
    {
      "cell_type": "code",
      "execution_count": null,
      "id": "65a6de96",
      "metadata": {
        "id": "65a6de96"
      },
      "outputs": [],
      "source": [
        "from sklearn.preprocessing import StandardScaler"
      ]
    },
    {
      "cell_type": "code",
      "execution_count": null,
      "id": "7c5b6216",
      "metadata": {
        "id": "7c5b6216",
        "colab": {
          "base_uri": "https://localhost:8080/"
        },
        "outputId": "abba5d31-53a7-4800-a10d-72d605e194f7"
      },
      "outputs": [
        {
          "output_type": "execute_result",
          "data": {
            "text/plain": [
              "(199146, 33)"
            ]
          },
          "metadata": {},
          "execution_count": 146
        }
      ],
      "source": [
        "# Media cero y varianza unitaria\n",
        "sc = StandardScaler()\n",
        "Xsc = sc.fit(X)\n",
        "Xt = Xsc.transform(X)\n",
        "Xt.shape\n"
      ]
    },
    {
      "cell_type": "markdown",
      "source": [
        "### Partición conjuntos de datos: Entrenamiento, prueba y validación"
      ],
      "metadata": {
        "id": "uXdpcyblJjc2"
      },
      "id": "uXdpcyblJjc2"
    },
    {
      "cell_type": "code",
      "source": [
        "from sklearn.model_selection import train_test_split as split"
      ],
      "metadata": {
        "id": "YRs0yBDoH5bl"
      },
      "id": "YRs0yBDoH5bl",
      "execution_count": null,
      "outputs": []
    },
    {
      "cell_type": "code",
      "source": [
        "## # Definir función para particionar el conjunto de datos\n",
        "\n",
        "X_train, X_test, y_train, y_test = split(Xt,Y,\n",
        "                                         test_size=0.30,\n",
        "                                         random_state=42,\n",
        "                                         stratify=Y)\n",
        "\n",
        "# X_train, X_valid, y_train, y_valid = split(X_train, y_train,\n",
        "#                                            test_size=0.2,\n",
        "#                                            stratify=y_train)"
      ],
      "metadata": {
        "id": "xHkxxOYwHlRd"
      },
      "id": "xHkxxOYwHlRd",
      "execution_count": null,
      "outputs": []
    },
    {
      "cell_type": "markdown",
      "source": [
        "## Modelos Supervisados"
      ],
      "metadata": {
        "id": "i3tB9ZDaIw0u"
      },
      "id": "i3tB9ZDaIw0u"
    },
    {
      "cell_type": "markdown",
      "id": "0ce13595",
      "metadata": {
        "id": "0ce13595"
      },
      "source": [
        "### Árboles de decisión"
      ]
    },
    {
      "cell_type": "code",
      "execution_count": null,
      "id": "d878bc8a",
      "metadata": {
        "id": "d878bc8a"
      },
      "outputs": [],
      "source": [
        "# import xgboost as xgb\n",
        "from sklearn import metrics\n",
        "from sklearn.ensemble import BaggingClassifier\n",
        "from sklearn.tree import DecisionTreeClassifier\n",
        "from sklearn.ensemble import RandomForestClassifier"
      ]
    },
    {
      "cell_type": "code",
      "execution_count": null,
      "id": "ac7fba1e",
      "metadata": {
        "id": "ac7fba1e",
        "outputId": "9f44a2b3-805a-4ddf-e6bd-0215a5db2d22",
        "colab": {
          "base_uri": "https://localhost:8080/"
        }
      },
      "outputs": [
        {
          "output_type": "stream",
          "name": "stdout",
          "text": [
            "\n",
            "               precision    recall  f1-score   support\n",
            "\n",
            "           0       0.53      0.55      0.54     20310\n",
            "           1       0.05      0.06      0.06       972\n",
            "           2       0.76      0.75      0.75     38462\n",
            "\n",
            "    accuracy                           0.67     59744\n",
            "   macro avg       0.45      0.45      0.45     59744\n",
            "weighted avg       0.67      0.67      0.67     59744\n",
            "\n"
          ]
        }
      ],
      "source": [
        "#Definición del modelo\n",
        "arbol1 = DecisionTreeClassifier()\n",
        "\n",
        "#Entrenamiento y evaluación del modelo\n",
        "arbol1 = arbol1.fit(X_train,y_train)\n",
        "\n",
        "# Calcular métricas de desempeño\n",
        "y_pred = arbol1.predict(X_test)\n",
        "print(\"\\n\", metrics.classification_report(y_test, y_pred, digits=2))\n",
        "\n",
        "# Visualizar matriz de confusión\n",
        "# Y_pred13 = np_utils.to_categorical(y_pred13)\n",
        "# cm = matriz_confusion(Y_test, y_pred, 'si', 'Matriz de confusión clasificador AD')"
      ]
    },
    {
      "cell_type": "markdown",
      "id": "7ccb4d3c",
      "metadata": {
        "id": "7ccb4d3c"
      },
      "source": [
        "### Random Forests"
      ]
    },
    {
      "cell_type": "code",
      "execution_count": null,
      "id": "cab294f4",
      "metadata": {
        "id": "cab294f4"
      },
      "outputs": [],
      "source": [
        "from sklearn.ensemble import RandomForestClassifier"
      ]
    },
    {
      "cell_type": "code",
      "execution_count": null,
      "id": "58985e56",
      "metadata": {
        "id": "58985e56",
        "outputId": "f6306e6d-3c39-4fd0-b603-70411e1356f6",
        "colab": {
          "base_uri": "https://localhost:8080/"
        }
      },
      "outputs": [
        {
          "output_type": "stream",
          "name": "stderr",
          "text": [
            "<ipython-input-235-86e86c52e873>:5: DataConversionWarning: A column-vector y was passed when a 1d array was expected. Please change the shape of y to (n_samples,), for example using ravel().\n",
            "  rfc.fit(X_train, y_train)\n"
          ]
        },
        {
          "output_type": "stream",
          "name": "stdout",
          "text": [
            "\n",
            "               precision    recall  f1-score   support\n",
            "\n",
            "           0       0.78      0.45      0.57     20310\n",
            "           1       0.00      0.00      0.00       972\n",
            "           2       0.76      0.95      0.84     38462\n",
            "\n",
            "    accuracy                           0.76     59744\n",
            "   macro avg       0.51      0.47      0.47     59744\n",
            "weighted avg       0.76      0.76      0.74     59744\n",
            "\n"
          ]
        }
      ],
      "source": [
        "#Definición del modelo\n",
        "rfc = RandomForestClassifier(n_estimators=200)\n",
        "\n",
        "#Entrenamiento y evaluación del modelo\n",
        "rfc.fit(X_train, y_train)\n",
        "\n",
        "# Calcular métricas de desempeño\n",
        "y_pred2 = rfc.predict(X_test)\n",
        "print(\"\\n\", metrics.classification_report(y_test, y_pred2, digits=2))"
      ]
    },
    {
      "cell_type": "markdown",
      "id": "61689bc2",
      "metadata": {
        "id": "61689bc2"
      },
      "source": [
        "### Redes Neuronales Artificiales"
      ]
    },
    {
      "cell_type": "code",
      "source": [
        "from tensorflow.keras import models\n",
        "from tensorflow.keras import layers\n",
        "from tensorflow.keras import optimizers\n",
        "from tensorflow.keras import regularizers\n",
        "from tensorflow.keras import utils as np_utils"
      ],
      "metadata": {
        "id": "jIkdqjG1IjAe"
      },
      "id": "jIkdqjG1IjAe",
      "execution_count": null,
      "outputs": []
    },
    {
      "cell_type": "code",
      "source": [
        "#Transformación de datos requerida para RNA\n",
        "Y_train = np_utils.to_categorical(y_train)\n",
        "Y_test = np_utils.to_categorical(y_test)\n",
        "Y_valid = np_utils.to_categorical(y_valid)"
      ],
      "metadata": {
        "id": "uCeDWdeyIlcm"
      },
      "id": "uCeDWdeyIlcm",
      "execution_count": null,
      "outputs": []
    },
    {
      "cell_type": "code",
      "execution_count": null,
      "id": "c4083bf3",
      "metadata": {
        "id": "c4083bf3"
      },
      "outputs": [],
      "source": [
        "# Definir función para construir RNA\n",
        "def construrna():\n",
        "    #Contruir RNA\n",
        "    model = models.Sequential()\n",
        "    model.add(layers.Dense(8, activation='tanh'))\n",
        "    model.add(layers.Dense(8,  activation='tanh'))\n",
        "    model.add(layers.Dense(4, activation='sigmoid'))\n",
        "\n",
        "# compile the keras (tensorflow) flow graph\n",
        "    model.compile(optimizer=optimizers.RMSprop(learning_rate=0.001),\n",
        "                  loss='categorical_crossentropy',\n",
        "                  metrics=['accuracy'])\n",
        "    return model"
      ]
    },
    {
      "cell_type": "code",
      "source": [
        "# Definir función para entrenar RNA\n",
        "def trainrna(model, epo, batch,partial_x_train,partial_y_train,x_val,y_val):\n",
        "    history = model.fit(partial_x_train,\n",
        "                        partial_y_train,\n",
        "                        epochs=epo,\n",
        "                        batch_size=batch,\n",
        "                        validation_data=(x_val, y_val),\n",
        "                        verbose=1)\n",
        "    return history"
      ],
      "metadata": {
        "id": "_QHslCR5oBAy"
      },
      "id": "_QHslCR5oBAy",
      "execution_count": null,
      "outputs": []
    },
    {
      "cell_type": "code",
      "execution_count": null,
      "id": "74049f32",
      "metadata": {
        "id": "74049f32"
      },
      "outputs": [],
      "source": [
        "# Métricas de desempeño\n",
        "def metricas_rna(model_rna, X_test, Y_test):\n",
        "\n",
        "#     # Exactitud\n",
        "#     test_loss, test_acc = model.evaluate(X_test, Y_test)# testeo de la red con los de prueba\n",
        "#     print('\\nExactitud evaluación:',test_acc)\n",
        "    Y_pred = model_rna.predict_classes(X_test, batch_size=32, verbose=1)\n",
        "    Y_pred = np_utils.to_categorical(Y_pred)\n",
        "\n",
        "    # Mostrar la precisión, recall, F1-score\n",
        "    print(\"\\n\", metrics.classification_report(Y_test, Y_pred, digits=3))\n",
        "\n",
        "    return Y_pred"
      ]
    },
    {
      "cell_type": "code",
      "execution_count": null,
      "id": "81f7a4a2",
      "metadata": {
        "id": "81f7a4a2"
      },
      "outputs": [],
      "source": [
        "# Construir la red neuronal\n",
        "model_rna = construrna()"
      ]
    },
    {
      "cell_type": "code",
      "execution_count": null,
      "id": "6a03caca",
      "metadata": {
        "id": "6a03caca",
        "outputId": "27878461-a31c-4ee7-a0df-442c36569924",
        "colab": {
          "base_uri": "https://localhost:8080/"
        }
      },
      "outputs": [
        {
          "output_type": "stream",
          "name": "stdout",
          "text": [
            "(111521, 33)\n",
            "(27881, 33)\n",
            "(111521, 1)\n",
            "(27881, 1)\n"
          ]
        }
      ],
      "source": [
        "print(X_train.shape)\n",
        "print(X_valid.shape)\n",
        "print(y_train.shape)\n",
        "print(y_valid.shape)"
      ]
    },
    {
      "cell_type": "code",
      "source": [
        "#Reshaping labels as 2d-tensor (the first dimension will be the batch dimension and the second the scalar label):\n",
        "# Our vectorized labels\n",
        "#Y_train = np.asarray(y_train).astype('float32').reshape((-1,1))\n",
        "#Y_test = np.asarray(y_test).astype('float32').reshape((-1,1))\n",
        "#Y_valid = np.asarray(y_valid).astype('float32').reshape((-1,1))"
      ],
      "metadata": {
        "id": "zt4C84F5pv6K"
      },
      "id": "zt4C84F5pv6K",
      "execution_count": null,
      "outputs": []
    },
    {
      "cell_type": "code",
      "execution_count": null,
      "id": "a4e942cc",
      "metadata": {
        "id": "a4e942cc",
        "colab": {
          "base_uri": "https://localhost:8080/"
        },
        "outputId": "0b393a49-ff45-49f8-a970-c8d3fa872427"
      },
      "outputs": [
        {
          "output_type": "stream",
          "name": "stdout",
          "text": [
            "Epoch 1/5\n",
            "3486/3486 [==============================] - 9s 2ms/step - loss: 0.5972 - accuracy: 0.7531 - val_loss: 0.5490 - val_accuracy: 0.7727\n",
            "Epoch 2/5\n",
            "3486/3486 [==============================] - 7s 2ms/step - loss: 0.5494 - accuracy: 0.7700 - val_loss: 0.5460 - val_accuracy: 0.7724\n",
            "Epoch 3/5\n",
            "3486/3486 [==============================] - 8s 2ms/step - loss: 0.5473 - accuracy: 0.7700 - val_loss: 0.5445 - val_accuracy: 0.7714\n",
            "Epoch 4/5\n",
            "3486/3486 [==============================] - 7s 2ms/step - loss: 0.5454 - accuracy: 0.7699 - val_loss: 0.5435 - val_accuracy: 0.7721\n",
            "Epoch 5/5\n",
            "3486/3486 [==============================] - 8s 2ms/step - loss: 0.5446 - accuracy: 0.7691 - val_loss: 0.5439 - val_accuracy: 0.7711\n"
          ]
        }
      ],
      "source": [
        "# Entrenar la red neuronal\n",
        "history_rna = trainrna(model_rna, 5, 32, X_train,Y_train,X_valid,Y_valid)"
      ]
    },
    {
      "cell_type": "code",
      "source": [
        "predict_x=model_rna.predict(X_test)\n",
        "classes_x=np.argmax(predict_x,axis=1)"
      ],
      "metadata": {
        "colab": {
          "base_uri": "https://localhost:8080/"
        },
        "id": "K4R43aO1wXfA",
        "outputId": "bde79690-3573-414d-c1dd-61f658db8f09"
      },
      "id": "K4R43aO1wXfA",
      "execution_count": null,
      "outputs": [
        {
          "output_type": "stream",
          "name": "stdout",
          "text": [
            "1867/1867 [==============================] - 3s 2ms/step\n"
          ]
        }
      ]
    },
    {
      "cell_type": "code",
      "source": [
        "print(predict_x)\n",
        "print(classes_x)"
      ],
      "metadata": {
        "colab": {
          "base_uri": "https://localhost:8080/"
        },
        "id": "lRbzXBB1wlCO",
        "outputId": "f858602d-8095-46e8-a226-e52a1aa16554"
      },
      "id": "lRbzXBB1wlCO",
      "execution_count": null,
      "outputs": [
        {
          "output_type": "stream",
          "name": "stdout",
          "text": [
            "[[6.0067236e-05 8.3852673e-01 6.2412041e-01 5.1589470e-02]\n",
            " [1.9262842e-04 8.6448449e-01 6.3736737e-01 5.7995848e-02]\n",
            " [1.1930994e-04 7.8821629e-01 6.9847596e-01 7.6033302e-02]\n",
            " ...\n",
            " [8.9585061e-05 8.7120116e-01 6.3033885e-01 6.3908815e-02]\n",
            " [1.7273051e-05 8.9958370e-01 6.7482793e-01 3.7549566e-02]\n",
            " [1.1143089e-04 8.0705833e-01 6.3873357e-01 5.3651281e-02]]\n",
            "[1 1 1 ... 1 1 1]\n"
          ]
        }
      ]
    },
    {
      "cell_type": "code",
      "execution_count": null,
      "id": "e98ed4c1",
      "metadata": {
        "id": "e98ed4c1"
      },
      "outputs": [],
      "source": [
        "#y_pred3 = model_rna.predict_classes(X_test, batch_size=32, verbose=1)\n",
        "#y_pred3 = np_utils.to_categorical(y_pred3)\n",
        "#print(\"\\n\", metrics.classification_report(y_test, Y_pred3, digits=2))"
      ]
    },
    {
      "cell_type": "code",
      "execution_count": null,
      "id": "0beb6f10",
      "metadata": {
        "id": "0beb6f10"
      },
      "outputs": [],
      "source": [
        "from sklearn.metrics import accuracy_score, f1_score, precision_score, recall_score, roc_curve, auc"
      ]
    },
    {
      "cell_type": "code",
      "execution_count": null,
      "id": "090ffed6",
      "metadata": {
        "id": "090ffed6",
        "outputId": "eef8d914-808c-42c1-a8a2-d7c1981c76e5",
        "colab": {
          "base_uri": "https://localhost:8080/"
        }
      },
      "outputs": [
        {
          "output_type": "execute_result",
          "data": {
            "text/plain": [
              "0.771039769683985"
            ]
          },
          "metadata": {},
          "execution_count": 214
        }
      ],
      "source": [
        "accuracy_score(y_test, classes_x)"
      ]
    },
    {
      "cell_type": "code",
      "execution_count": null,
      "id": "bca0a22e",
      "metadata": {
        "id": "bca0a22e",
        "colab": {
          "base_uri": "https://localhost:8080/"
        },
        "outputId": "241a4272-e074-4e57-ce69-58092e62fcfc"
      },
      "outputs": [
        {
          "output_type": "stream",
          "name": "stdout",
          "text": [
            "0.4673722795479979\n",
            "0.4618183218269459\n"
          ]
        }
      ],
      "source": [
        "print(f1_score(y_test, classes_x, average=\"macro\"))\n",
        "#print(precision_score(y_test, classes_x, average=\"macro\"))\n",
        "print(recall_score(y_test, classes_x, average=\"macro\"))"
      ]
    },
    {
      "cell_type": "code",
      "execution_count": null,
      "id": "48dc14dd",
      "metadata": {
        "id": "48dc14dd"
      },
      "outputs": [],
      "source": []
    },
    {
      "cell_type": "code",
      "execution_count": null,
      "id": "fce610c3",
      "metadata": {
        "id": "fce610c3",
        "colab": {
          "base_uri": "https://localhost:8080/"
        },
        "outputId": "830a5fa2-c4a9-4b4b-9c44-a33561ed6eaa"
      },
      "outputs": [
        {
          "output_type": "stream",
          "name": "stdout",
          "text": [
            "precision: [0.74999013 0.88821719 0.        ]\n",
            "recall: [0.98757215 0.39788282 0.        ]\n",
            "fscore: [0.85253849 0.54957835 0.        ]\n",
            "support: [38462 20310   972]\n"
          ]
        },
        {
          "output_type": "stream",
          "name": "stderr",
          "text": [
            "/usr/local/lib/python3.10/dist-packages/sklearn/metrics/_classification.py:1344: UndefinedMetricWarning: Precision and F-score are ill-defined and being set to 0.0 in labels with no predicted samples. Use `zero_division` parameter to control this behavior.\n",
            "  _warn_prf(average, modifier, msg_start, len(result))\n"
          ]
        }
      ],
      "source": [
        "from sklearn.metrics import precision_recall_fscore_support as score\n",
        "\n",
        "precision, recall, fscore, support = score(y_test, classes_x)\n",
        "\n",
        "print('precision: {}'.format(precision))\n",
        "print('recall: {}'.format(recall))\n",
        "print('fscore: {}'.format(fscore))\n",
        "print('support: {}'.format(support))"
      ]
    },
    {
      "cell_type": "code",
      "execution_count": null,
      "id": "ae7866ce",
      "metadata": {
        "id": "ae7866ce"
      },
      "outputs": [],
      "source": [
        "from sklearn.metrics import confusion_matrix"
      ]
    },
    {
      "cell_type": "code",
      "execution_count": null,
      "id": "17f8f0dd",
      "metadata": {
        "id": "17f8f0dd",
        "outputId": "b0cb1f85-32df-46d1-d45a-a1df210890bf",
        "colab": {
          "base_uri": "https://localhost:8080/"
        }
      },
      "outputs": [
        {
          "output_type": "stream",
          "name": "stdout",
          "text": [
            "1867/1867 [==============================] - 5s 3ms/step\n",
            "Confusion Matrix\n",
            "[[    0 50646  9098]\n",
            " [    0     0     0]\n",
            " [    0     0     0]]\n"
          ]
        }
      ],
      "source": [
        "y_test_arg=np.argmax(y_test,axis=1)\n",
        "y_pred3 = np.argmax(model_rna.predict(X_test),axis=1)\n",
        "print('Confusion Matrix')\n",
        "print(confusion_matrix(y_test_arg, y_pred3))"
      ]
    },
    {
      "cell_type": "code",
      "source": [
        "fpr, tpr, thresholds = roc_curve(y_test_arg, classes_x, pos_label=2)\n",
        "auc(fpr, tpr)"
      ],
      "metadata": {
        "colab": {
          "base_uri": "https://localhost:8080/"
        },
        "id": "3wXsqny18AXW",
        "outputId": "f8d1dd1e-845a-4907-b893-9f0929cadab1"
      },
      "id": "3wXsqny18AXW",
      "execution_count": null,
      "outputs": [
        {
          "output_type": "stream",
          "name": "stderr",
          "text": [
            "/usr/local/lib/python3.10/dist-packages/sklearn/metrics/_ranking.py:1029: UndefinedMetricWarning: No positive samples in y_true, true positive value should be meaningless\n",
            "  warnings.warn(\n"
          ]
        },
        {
          "output_type": "execute_result",
          "data": {
            "text/plain": [
              "nan"
            ]
          },
          "metadata": {},
          "execution_count": 222
        }
      ]
    },
    {
      "cell_type": "markdown",
      "id": "045e6bb9",
      "metadata": {
        "id": "045e6bb9"
      },
      "source": [
        "### Xgboost"
      ]
    },
    {
      "cell_type": "code",
      "execution_count": null,
      "id": "733ba490",
      "metadata": {
        "id": "733ba490"
      },
      "outputs": [],
      "source": [
        "from sklearn.model_selection import cross_val_score, KFold\n",
        "import xgboost as xgb"
      ]
    },
    {
      "cell_type": "code",
      "execution_count": null,
      "id": "4659e984",
      "metadata": {
        "id": "4659e984"
      },
      "outputs": [],
      "source": [
        "#Definición del modelo\n",
        "xg_class = xgb.XGBClassifier(objective ='multi:softprob', colsample_bytree = 1, learning_rate = 0.1,\n",
        "                max_depth = 5, alpha = 10, n_estimators = 100)"
      ]
    },
    {
      "cell_type": "code",
      "source": [
        "from sklearn.preprocessing import LabelEncoder\n",
        "le = LabelEncoder()\n",
        "y_train = le.fit_transform(y_train)"
      ],
      "metadata": {
        "colab": {
          "base_uri": "https://localhost:8080/"
        },
        "id": "CF-_y9Rh9lt9",
        "outputId": "76eb0eae-c92e-4dbc-e0f3-910adcb6b091"
      },
      "id": "CF-_y9Rh9lt9",
      "execution_count": null,
      "outputs": [
        {
          "output_type": "stream",
          "name": "stderr",
          "text": [
            "/usr/local/lib/python3.10/dist-packages/sklearn/preprocessing/_label.py:116: DataConversionWarning: A column-vector y was passed when a 1d array was expected. Please change the shape of y to (n_samples, ), for example using ravel().\n",
            "  y = column_or_1d(y, warn=True)\n"
          ]
        }
      ]
    },
    {
      "cell_type": "code",
      "execution_count": null,
      "id": "a11d4f63",
      "metadata": {
        "id": "a11d4f63",
        "colab": {
          "base_uri": "https://localhost:8080/",
          "height": 303
        },
        "outputId": "7d8833ff-f2f6-4370-cfdb-c84985714884"
      },
      "outputs": [
        {
          "output_type": "stream",
          "name": "stderr",
          "text": [
            "/usr/local/lib/python3.10/dist-packages/xgboost/sklearn.py:835: UserWarning: `eval_metric` in `fit` method is deprecated for better compatibility with scikit-learn, use `eval_metric` in constructor or`set_params` instead.\n",
            "  warnings.warn(\n"
          ]
        },
        {
          "output_type": "execute_result",
          "data": {
            "text/plain": [
              "XGBClassifier(alpha=10, base_score=None, booster=None, callbacks=None,\n",
              "              colsample_bylevel=None, colsample_bynode=None, colsample_bytree=1,\n",
              "              early_stopping_rounds=None, enable_categorical=False,\n",
              "              eval_metric=None, feature_types=None, gamma=None, gpu_id=None,\n",
              "              grow_policy=None, importance_type=None,\n",
              "              interaction_constraints=None, learning_rate=0.1, max_bin=None,\n",
              "              max_cat_threshold=None, max_cat_to_onehot=None,\n",
              "              max_delta_step=None, max_depth=5, max_leaves=None,\n",
              "              min_child_weight=None, missing=nan, monotone_constraints=None,\n",
              "              n_estimators=100, n_jobs=None, num_parallel_tree=None,\n",
              "              objective='multi:softprob', ...)"
            ],
            "text/html": [
              "<style>#sk-container-id-1 {color: black;background-color: white;}#sk-container-id-1 pre{padding: 0;}#sk-container-id-1 div.sk-toggleable {background-color: white;}#sk-container-id-1 label.sk-toggleable__label {cursor: pointer;display: block;width: 100%;margin-bottom: 0;padding: 0.3em;box-sizing: border-box;text-align: center;}#sk-container-id-1 label.sk-toggleable__label-arrow:before {content: \"▸\";float: left;margin-right: 0.25em;color: #696969;}#sk-container-id-1 label.sk-toggleable__label-arrow:hover:before {color: black;}#sk-container-id-1 div.sk-estimator:hover label.sk-toggleable__label-arrow:before {color: black;}#sk-container-id-1 div.sk-toggleable__content {max-height: 0;max-width: 0;overflow: hidden;text-align: left;background-color: #f0f8ff;}#sk-container-id-1 div.sk-toggleable__content pre {margin: 0.2em;color: black;border-radius: 0.25em;background-color: #f0f8ff;}#sk-container-id-1 input.sk-toggleable__control:checked~div.sk-toggleable__content {max-height: 200px;max-width: 100%;overflow: auto;}#sk-container-id-1 input.sk-toggleable__control:checked~label.sk-toggleable__label-arrow:before {content: \"▾\";}#sk-container-id-1 div.sk-estimator input.sk-toggleable__control:checked~label.sk-toggleable__label {background-color: #d4ebff;}#sk-container-id-1 div.sk-label input.sk-toggleable__control:checked~label.sk-toggleable__label {background-color: #d4ebff;}#sk-container-id-1 input.sk-hidden--visually {border: 0;clip: rect(1px 1px 1px 1px);clip: rect(1px, 1px, 1px, 1px);height: 1px;margin: -1px;overflow: hidden;padding: 0;position: absolute;width: 1px;}#sk-container-id-1 div.sk-estimator {font-family: monospace;background-color: #f0f8ff;border: 1px dotted black;border-radius: 0.25em;box-sizing: border-box;margin-bottom: 0.5em;}#sk-container-id-1 div.sk-estimator:hover {background-color: #d4ebff;}#sk-container-id-1 div.sk-parallel-item::after {content: \"\";width: 100%;border-bottom: 1px solid gray;flex-grow: 1;}#sk-container-id-1 div.sk-label:hover label.sk-toggleable__label {background-color: #d4ebff;}#sk-container-id-1 div.sk-serial::before {content: \"\";position: absolute;border-left: 1px solid gray;box-sizing: border-box;top: 0;bottom: 0;left: 50%;z-index: 0;}#sk-container-id-1 div.sk-serial {display: flex;flex-direction: column;align-items: center;background-color: white;padding-right: 0.2em;padding-left: 0.2em;position: relative;}#sk-container-id-1 div.sk-item {position: relative;z-index: 1;}#sk-container-id-1 div.sk-parallel {display: flex;align-items: stretch;justify-content: center;background-color: white;position: relative;}#sk-container-id-1 div.sk-item::before, #sk-container-id-1 div.sk-parallel-item::before {content: \"\";position: absolute;border-left: 1px solid gray;box-sizing: border-box;top: 0;bottom: 0;left: 50%;z-index: -1;}#sk-container-id-1 div.sk-parallel-item {display: flex;flex-direction: column;z-index: 1;position: relative;background-color: white;}#sk-container-id-1 div.sk-parallel-item:first-child::after {align-self: flex-end;width: 50%;}#sk-container-id-1 div.sk-parallel-item:last-child::after {align-self: flex-start;width: 50%;}#sk-container-id-1 div.sk-parallel-item:only-child::after {width: 0;}#sk-container-id-1 div.sk-dashed-wrapped {border: 1px dashed gray;margin: 0 0.4em 0.5em 0.4em;box-sizing: border-box;padding-bottom: 0.4em;background-color: white;}#sk-container-id-1 div.sk-label label {font-family: monospace;font-weight: bold;display: inline-block;line-height: 1.2em;}#sk-container-id-1 div.sk-label-container {text-align: center;}#sk-container-id-1 div.sk-container {/* jupyter's `normalize.less` sets `[hidden] { display: none; }` but bootstrap.min.css set `[hidden] { display: none !important; }` so we also need the `!important` here to be able to override the default hidden behavior on the sphinx rendered scikit-learn.org. See: https://github.com/scikit-learn/scikit-learn/issues/21755 */display: inline-block !important;position: relative;}#sk-container-id-1 div.sk-text-repr-fallback {display: none;}</style><div id=\"sk-container-id-1\" class=\"sk-top-container\"><div class=\"sk-text-repr-fallback\"><pre>XGBClassifier(alpha=10, base_score=None, booster=None, callbacks=None,\n",
              "              colsample_bylevel=None, colsample_bynode=None, colsample_bytree=1,\n",
              "              early_stopping_rounds=None, enable_categorical=False,\n",
              "              eval_metric=None, feature_types=None, gamma=None, gpu_id=None,\n",
              "              grow_policy=None, importance_type=None,\n",
              "              interaction_constraints=None, learning_rate=0.1, max_bin=None,\n",
              "              max_cat_threshold=None, max_cat_to_onehot=None,\n",
              "              max_delta_step=None, max_depth=5, max_leaves=None,\n",
              "              min_child_weight=None, missing=nan, monotone_constraints=None,\n",
              "              n_estimators=100, n_jobs=None, num_parallel_tree=None,\n",
              "              objective=&#x27;multi:softprob&#x27;, ...)</pre><b>In a Jupyter environment, please rerun this cell to show the HTML representation or trust the notebook. <br />On GitHub, the HTML representation is unable to render, please try loading this page with nbviewer.org.</b></div><div class=\"sk-container\" hidden><div class=\"sk-item\"><div class=\"sk-estimator sk-toggleable\"><input class=\"sk-toggleable__control sk-hidden--visually\" id=\"sk-estimator-id-1\" type=\"checkbox\" checked><label for=\"sk-estimator-id-1\" class=\"sk-toggleable__label sk-toggleable__label-arrow\">XGBClassifier</label><div class=\"sk-toggleable__content\"><pre>XGBClassifier(alpha=10, base_score=None, booster=None, callbacks=None,\n",
              "              colsample_bylevel=None, colsample_bynode=None, colsample_bytree=1,\n",
              "              early_stopping_rounds=None, enable_categorical=False,\n",
              "              eval_metric=None, feature_types=None, gamma=None, gpu_id=None,\n",
              "              grow_policy=None, importance_type=None,\n",
              "              interaction_constraints=None, learning_rate=0.1, max_bin=None,\n",
              "              max_cat_threshold=None, max_cat_to_onehot=None,\n",
              "              max_delta_step=None, max_depth=5, max_leaves=None,\n",
              "              min_child_weight=None, missing=nan, monotone_constraints=None,\n",
              "              n_estimators=100, n_jobs=None, num_parallel_tree=None,\n",
              "              objective=&#x27;multi:softprob&#x27;, ...)</pre></div></div></div></div></div>"
            ]
          },
          "metadata": {},
          "execution_count": 239
        }
      ],
      "source": [
        "#Entrenamiento del modelo\n",
        "xg_class.fit(X_train, y_train,\n",
        "             eval_set=[(X_train, y_train), (X_test, y_test)],\n",
        "             eval_metric='mlogloss',\n",
        "             verbose=False)"
      ]
    },
    {
      "cell_type": "code",
      "execution_count": null,
      "id": "8b3271c3",
      "metadata": {
        "id": "8b3271c3",
        "colab": {
          "base_uri": "https://localhost:8080/"
        },
        "outputId": "9a93ee09-6fe3-44e7-96c7-e4791584630f"
      },
      "outputs": [
        {
          "output_type": "stream",
          "name": "stdout",
          "text": [
            "Mean cross-validation score: 0.77\n",
            "\n",
            "               precision    recall  f1-score   support\n",
            "\n",
            "           0       0.88      0.41      0.56     20310\n",
            "           1       0.00      0.00      0.00       972\n",
            "           2       0.75      0.99      0.85     38462\n",
            "\n",
            "    accuracy                           0.77     59744\n",
            "   macro avg       0.54      0.46      0.47     59744\n",
            "weighted avg       0.78      0.77      0.74     59744\n",
            "\n"
          ]
        },
        {
          "output_type": "stream",
          "name": "stderr",
          "text": [
            "/usr/local/lib/python3.10/dist-packages/sklearn/metrics/_classification.py:1344: UndefinedMetricWarning: Precision and F-score are ill-defined and being set to 0.0 in labels with no predicted samples. Use `zero_division` parameter to control this behavior.\n",
            "  _warn_prf(average, modifier, msg_start, len(result))\n",
            "/usr/local/lib/python3.10/dist-packages/sklearn/metrics/_classification.py:1344: UndefinedMetricWarning: Precision and F-score are ill-defined and being set to 0.0 in labels with no predicted samples. Use `zero_division` parameter to control this behavior.\n",
            "  _warn_prf(average, modifier, msg_start, len(result))\n",
            "/usr/local/lib/python3.10/dist-packages/sklearn/metrics/_classification.py:1344: UndefinedMetricWarning: Precision and F-score are ill-defined and being set to 0.0 in labels with no predicted samples. Use `zero_division` parameter to control this behavior.\n",
            "  _warn_prf(average, modifier, msg_start, len(result))\n"
          ]
        }
      ],
      "source": [
        "#Entrenamiento y validación cruzada mediante k-fold\n",
        "scores = cross_val_score(xg_class, X_train, y_train, cv=5)\n",
        "print(\"Mean cross-validation score: %.2f\" % scores.mean())\n",
        "\n",
        "# Calcular métricas de desempeño\n",
        "y_pred4 = xg_class.predict(X_test)\n",
        "print(\"\\n\", metrics.classification_report(y_test, y_pred4, digits=2))"
      ]
    }
  ],
  "metadata": {
    "kernelspec": {
      "display_name": "Python (bertgpu)",
      "language": "python",
      "name": "bertgpu"
    },
    "language_info": {
      "codemirror_mode": {
        "name": "ipython",
        "version": 3
      },
      "file_extension": ".py",
      "mimetype": "text/x-python",
      "name": "python",
      "nbconvert_exporter": "python",
      "pygments_lexer": "ipython3",
      "version": "3.7.10"
    },
    "colab": {
      "provenance": [],
      "collapsed_sections": [
        "61689bc2"
      ]
    }
  },
  "nbformat": 4,
  "nbformat_minor": 5
}